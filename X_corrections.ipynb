{
 "cells": [
  {
   "cell_type": "code",
   "execution_count": 56,
   "metadata": {},
   "outputs": [],
   "source": [
    "import pandas as pd\n",
    "import os\n",
    "import json\n",
    "from IPython.display import display"
   ]
  },
  {
   "cell_type": "code",
   "execution_count": null,
   "metadata": {},
   "outputs": [],
   "source": [
    "snovi = [\"NO2\"]\n",
    "\n",
    "rename_map = {\n",
    "    \"mobilna postaja\": \"škale\"\n",
    "}"
   ]
  },
  {
   "cell_type": "markdown",
   "metadata": {},
   "source": [
    "Rename wrong names"
   ]
  },
  {
   "cell_type": "code",
   "execution_count": 59,
   "metadata": {},
   "outputs": [
    {
     "name": "stdout",
     "output_type": "stream",
     "text": [
      "replaced podatki/NO2/1997.csv\n",
      "replaced podatki/NO2/1998.csv\n",
      "replaced podatki/NO2/1999.csv\n",
      "replaced podatki/NO2/2000.csv\n",
      "replaced podatki/NO2/2001.csv\n",
      "replaced podatki/NO2/2002.csv\n",
      "replaced podatki/NO2/2003.csv\n",
      "replaced podatki/NO2/2004.csv\n",
      "replaced podatki/NO2/2005.csv\n",
      "replaced podatki/NO2/2006.csv\n",
      "replaced podatki/NO2/2007.csv\n",
      "replaced podatki/NO2/2008.csv\n",
      "replaced podatki/NO2/2009.csv\n",
      "replaced podatki/NO2/2010.csv\n",
      "replaced podatki/NO2/2011.csv\n",
      "replaced podatki/NO2/2012.csv\n",
      "replaced podatki/NO2/2013.csv\n",
      "replaced podatki/NO2/2014.csv\n",
      "replaced podatki/NO2/2015.csv\n",
      "replaced podatki/NO2/2016.csv\n",
      "replaced podatki/NO2/2017.csv\n",
      "replaced podatki/NO2/2018.csv\n",
      "replaced podatki/NO2/2019.csv\n",
      "replaced podatki/NO2/2020.csv\n",
      "replaced podatki/NO2/2021.csv\n",
      "replaced podatki/NO2/2022.csv\n",
      "replaced podatki/NO2/2023.csv\n"
     ]
    }
   ],
   "source": [
    "for snov in snovi:\n",
    "    pdir = f\"podatki/{snov}\"\n",
    "\n",
    "    for file in sorted(os.listdir(pdir)):\n",
    "        filedir = os.path.join(pdir, file)\n",
    "\n",
    "        df = pd.read_csv(filedir)\n",
    "        df.replace({\"Postaja\": rename_map}, inplace=True)\n",
    "        print(\"replaced\", filedir)\n",
    "        df.to_csv(filedir, index=False)"
   ]
  },
  {
   "cell_type": "markdown",
   "metadata": {},
   "source": [
    "remove (r)"
   ]
  }
 ],
 "metadata": {
  "kernelspec": {
   "display_name": "umetna-inteligenca",
   "language": "python",
   "name": "python3"
  },
  "language_info": {
   "codemirror_mode": {
    "name": "ipython",
    "version": 3
   },
   "file_extension": ".py",
   "mimetype": "text/x-python",
   "name": "python",
   "nbconvert_exporter": "python",
   "pygments_lexer": "ipython3",
   "version": "3.12.3"
  }
 },
 "nbformat": 4,
 "nbformat_minor": 2
}
