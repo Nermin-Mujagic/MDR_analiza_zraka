{
 "cells": [
  {
   "cell_type": "code",
   "execution_count": 1,
   "metadata": {},
   "outputs": [],
   "source": [
    "import pandas as pd\n",
    "import os\n",
    "import json\n",
    "from IPython.display import display"
   ]
  },
  {
   "cell_type": "code",
   "execution_count": null,
   "metadata": {},
   "outputs": [
    {
     "name": "stdout",
     "output_type": "stream",
     "text": [
      "podatki/SO2/1997.csv\n"
     ]
    }
   ],
   "source": [
    "dire = \"podatki/SO2\"\n",
    "\n",
    "rename_map = {\n",
    "    \"miklavič\": \"miklavž\",\n",
    "    \"mobilna postaja\": \"škale\"\n",
    "}\n",
    "\n",
    "for file in sorted(os.listdir(dire)):\n",
    "    file_dir = os.path.join(dire,file)\n",
    "    df = pd.read_csv(file_dir)\n",
    "\n",
    "    \n",
    "    first_col = df.columns[0]\n",
    "    if first_col != \"Postaja\":\n",
    "        df.rename(columns={first_col: \"Postaja\"},inplace=True)\n",
    "\n",
    "\n",
    "        \n",
    "\n",
    "\n",
    "\n",
    "\n",
    "\n",
    "    \n",
    "    \n"
   ]
  }
 ],
 "metadata": {
  "kernelspec": {
   "display_name": "umetna-inteligenca",
   "language": "python",
   "name": "python3"
  },
  "language_info": {
   "codemirror_mode": {
    "name": "ipython",
    "version": 3
   },
   "file_extension": ".py",
   "mimetype": "text/x-python",
   "name": "python",
   "nbconvert_exporter": "python",
   "pygments_lexer": "ipython3",
   "version": "3.12.3"
  }
 },
 "nbformat": 4,
 "nbformat_minor": 2
}
