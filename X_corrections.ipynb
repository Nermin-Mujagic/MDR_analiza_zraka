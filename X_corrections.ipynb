{
 "cells": [
  {
   "cell_type": "code",
   "execution_count": null,
   "metadata": {},
   "outputs": [],
   "source": [
    "import pandas as pd\n",
    "import os\n",
    "import json\n",
    "from IPython.display import display"
   ]
  },
  {
   "cell_type": "code",
   "execution_count": null,
   "metadata": {},
   "outputs": [],
   "source": [
    "snovi = [\"PM10\",\"SO2\"]\n",
    "\n",
    "rename_map = {\n",
    "    \"miklavič\": \"miklavž\",\n",
    "    \"mobilna postaja\": \"škale\"\n",
    "}"
   ]
  },
  {
   "cell_type": "markdown",
   "metadata": {},
   "source": [
    "Rename wrong names"
   ]
  },
  {
   "cell_type": "code",
   "execution_count": null,
   "metadata": {},
   "outputs": [],
   "source": [
    "\"\"\" for snov in snovi:\n",
    "    pdir = f\"podatki/{snov}\"\n",
    "\n",
    "    for file in sorted(os.listdir(pdir)):\n",
    "        filedir = os.path.join(pdir, file)\n",
    "\n",
    "        df = pd.read_csv(filedir)\n",
    "        df.replace({\"Postaja\": rename_map}, inplace=True)\n",
    "        df.to_csv(filedir, index=False) \"\"\""
   ]
  },
  {
   "cell_type": "markdown",
   "metadata": {},
   "source": [
    "remove (r)"
   ]
  },
  {
   "cell_type": "code",
   "execution_count": null,
   "metadata": {},
   "outputs": [],
   "source": [
    "\"\"\" for snov in snovi:\n",
    "    pdir = f\"podatki/{snov}\"\n",
    "\n",
    "    for file in sorted(os.listdir(pdir)):\n",
    "        filedir = os.path.join(pdir, file)\n",
    "\n",
    "        df = pd.read_csv(filedir)\n",
    "        df['Postaja'] = df['Postaja'].str.strip().str.lower()\n",
    "        df['Postaja'] = df['Postaja'].str.replace(r'\\s*\\(r\\)\\s*','',regex=True)\n",
    "        df.to_csv(filedir,index=False)\n",
    "\n",
    "\n",
    " \"\"\""
   ]
  },
  {
   "cell_type": "markdown",
   "metadata": {},
   "source": [
    "Rename Postaja"
   ]
  },
  {
   "cell_type": "code",
   "execution_count": null,
   "metadata": {},
   "outputs": [],
   "source": [
    "\"\"\" for snov in snovi:\n",
    "    pdir = f\"podatki/{snov}\"\n",
    "\n",
    "    for file in sorted(os.listdir(pdir)):\n",
    "        filedir = os.path.join(pdir, file)\n",
    "        \n",
    "        df = pd.read_csv(filedir)\n",
    "        first_col = df.columns[0]\n",
    "\n",
    "        if first_col != \"Postaja\":\n",
    "            df.rename(columns={first_col: \"Postaja\"},inplace=True)\n",
    "\n",
    "        df.to_csv(filedir,index=False)\n",
    "\n",
    "\n",
    "     \"\"\""
   ]
  }
 ],
 "metadata": {
  "kernelspec": {
   "display_name": "umetna-inteligenca",
   "language": "python",
   "name": "python3"
  },
  "language_info": {
   "codemirror_mode": {
    "name": "ipython",
    "version": 3
   },
   "file_extension": ".py",
   "mimetype": "text/x-python",
   "name": "python",
   "nbconvert_exporter": "python",
   "pygments_lexer": "ipython3",
   "version": "3.12.3"
  }
 },
 "nbformat": 4,
 "nbformat_minor": 2
}
