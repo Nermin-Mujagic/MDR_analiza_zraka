{
 "cells": [
  {
   "cell_type": "code",
   "execution_count": 1,
   "metadata": {},
   "outputs": [],
   "source": [
    "import pandas as pd\n",
    "import matplotlib.pyplot as plt \n",
    "import numpy as np\n",
    "import seaborn as sns\n",
    "import locale \n",
    "import matplotlib.dates as mdates\n",
    "from datetime import datetime\n",
    "\n",
    "from pathlib import Path "
   ]
  },
  {
   "cell_type": "code",
   "execution_count": 2,
   "metadata": {},
   "outputs": [],
   "source": [
    "YEAR_MONTH_SORT = {\n",
    "    'by': ['Leto', 'Mesec'],\n",
    "    'key': lambda col: col if col.name != 'Mesec' else col.map(lambda x: datetime.strptime(x, '%b').month)\n",
    "}"
   ]
  },
  {
   "cell_type": "code",
   "execution_count": null,
   "metadata": {},
   "outputs": [
    {
     "data": {
      "text/plain": [
       "array(['Osrednjeslovenska', 'Podravska', 'Savinjska', 'Zasavska',\n",
       "       'Posavska', 'Pomurska', 'Goriška'], dtype=object)"
      ]
     },
     "metadata": {},
     "output_type": "display_data"
    }
   ],
   "source": [
    "locale.setlocale(locale.LC_ALL, \"sl_SI.utf8\")\n",
    "\n",
    "regije_filter = {\n",
    "    \"SO2\": [\n",
    "        \"Zasavska\",\n",
    "        \"Savinjska\",\n",
    "        \"Posavska\",\n",
    "        \"Pomurska\",\n",
    "        \"Podravska\",\n",
    "        \"Osrednjeslovenska\",\n",
    "\n",
    "    ]\n",
    "}\n",
    "\n",
    "def filter_and_aggreg(df: pd.DataFrame, years=None, regions_filter=[])->pd.DataFrame:\n",
    "    df = df[df['Regija'].isin(regions_filter)]\n",
    "\n",
    "    display(df['Regija'].unique())\n",
    "\n",
    "\n",
    "\n",
    "\n",
    "for csv_file in sorted(list(Path(\"podatki/df_regije\").iterdir()), reverse=True):\n",
    "    snov = csv_file.stem\n",
    "\n",
    "    raw_df = pd.read_csv(csv_file)\n",
    "    \n",
    "    prepare_df(df=raw_df,regions_filter=regije_filter[snov])\n",
    "    break \n",
    "    \n",
    "    df = regije_dict[name].copy()\n",
    "    df.dropna(inplace=True)\n",
    "    df.drop(columns=\"Postaja\", inplace=True)\n",
    "\n",
    "    df_reg = df.groupby([\"Regija\", \"Leto\", \"Mesec\"])[name].agg(\"mean\").reset_index()\n",
    "\n",
    "    df_reg.sort_values(**YEAR_MONTH_SORT, inplace=True)\n",
    "\n",
    "    df_reg.loc[:, \"Date\"] = pd.to_datetime(\n",
    "        df_reg[\"Leto\"].astype(str) + \"-\" + df_reg[\"Mesec\"], format=\"%Y-%b\"\n",
    "    ) + pd.offsets.MonthEnd(0)\n",
    "\n",
    "    regije = regije_filter[name]\n",
    "\n",
    "    df_reg = df_reg[df_reg[\"Regija\"].isin(regije)]\n",
    "\n",
    "    sns.set_style(\"whitegrid\")\n",
    "    plt.figure(figsize=(10, 6))\n",
    "\n",
    "    sns.lineplot(data=df_reg, x=\"Date\", y=name, hue=\"Regija\", linewidth=1)\n",
    "\n",
    "    years = df_reg[\"Date\"].dt.year.unique()\n",
    "\n",
    "    ax = plt.gca()\n",
    "\n",
    "    odd_years = years[years % 2 != 0]\n",
    "    ax.set_xticks([pd.to_datetime(f\"{year}-01-01\") for year in odd_years])\n",
    "    ax.set_xticklabels(odd_years)\n",
    "\n",
    "    necd_year = pd.to_datetime(\"2005-01-01\")\n",
    "    plt.axvline(\n",
    "        x=necd_year, color=\"red\", linestyle=\"-\", linewidth=1.5, alpha=0.5\n",
    "    )  # Add transparency and remove arrow\n",
    "    plt.annotate(\n",
    "        \"NECD direktiva postane pravnomočna\",\n",
    "        xy=(necd_year, max(df_reg[name])),\n",
    "        xytext=(\n",
    "            necd_year + pd.Timedelta(days=125),\n",
    "            max(df[name]) * 0.75,\n",
    "        ),  # Adjust x-position of text\n",
    "        horizontalalignment=\"left\",\n",
    "        verticalalignment=\"top\",\n",
    "        bbox=dict(\n",
    "            facecolor=\"red\",\n",
    "            alpha=0.5,\n",
    "        ),\n",
    "        color=\"white\",\n",
    "    )  # Add transparent red box\n",
    "\n",
    "    plt.xticks(rotation=45)\n",
    "    plt.xlabel(\"Leto\")\n",
    "    plt.ylabel(f\"nivo {name} [µg/m3]\")\n",
    "    plt.title(f\"Trend gibanja {name} po regijah\")\n",
    "\n",
    "    plt.legend(title=\"Regija\", bbox_to_anchor=(1.05, 1), loc=\"upper left\")\n",
    "    plt.tight_layout()\n",
    "    plt.savefig(f\"grafi/trend_gibanja_{name}_regije.png\")\n",
    "    plt.show()\n",
    "\n",
    "    break"
   ]
  },
  {
   "cell_type": "code",
   "execution_count": null,
   "metadata": {},
   "outputs": [],
   "source": []
  }
 ],
 "metadata": {
  "kernelspec": {
   "display_name": "umetna-inteligenca",
   "language": "python",
   "name": "python3"
  },
  "language_info": {
   "codemirror_mode": {
    "name": "ipython",
    "version": 3
   },
   "file_extension": ".py",
   "mimetype": "text/x-python",
   "name": "python",
   "nbconvert_exporter": "python",
   "pygments_lexer": "ipython3",
   "version": "3.12.3"
  }
 },
 "nbformat": 4,
 "nbformat_minor": 2
}
