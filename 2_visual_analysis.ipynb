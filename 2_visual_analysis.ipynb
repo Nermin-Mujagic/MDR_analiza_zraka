{
 "cells": [
  {
   "cell_type": "code",
   "execution_count": null,
   "metadata": {},
   "outputs": [],
   "source": [
    "%load_ext autoreload\n",
    "%autoreload 2"
   ]
  },
  {
   "cell_type": "code",
   "execution_count": null,
   "metadata": {},
   "outputs": [],
   "source": [
    "import pandas as pd\n",
    "import locale\n",
    "import matplotlib.pyplot as plt\n",
    "import matplotlib.dates as mdates\n",
    "import seaborn as sns\n",
    "import numpy as np\n",
    "import math\n",
    "\n",
    "from helpers import filter_region_year,SNOV_FILTER\n",
    "\n",
    "locale.setlocale(locale.LC_ALL, \"sl_SI.utf8\")"
   ]
  },
  {
   "cell_type": "code",
   "execution_count": null,
   "metadata": {},
   "outputs": [],
   "source": [
    "df_mesecne = pd.read_csv(\"podatki/df_mesecne.csv\",parse_dates=['Datum']).drop(columns=\"Postaja\")\n",
    "df_dnevne = pd.read_csv(\"podatki/df_dnevne.csv\",parse_dates=['Datum']).drop(columns=\"Postaja\")\n",
    "df_urne = pd.read_csv(\"podatki/df_urne.csv\",parse_dates=['Datum']).drop(columns=\"Postaja\")"
   ]
  },
  {
   "cell_type": "code",
   "execution_count": null,
   "metadata": {},
   "outputs": [],
   "source": [
    "def trim_axs(axs, N):\n",
    "    for ax in axs[N:]:\n",
    "        ax.remove()\n",
    "    return axs[:N]\n",
    "\n",
    "\n",
    "def plot_pollutant_trends(df: pd.DataFrame, pollutant: str, data_type: str):\n",
    "    \"\"\"\n",
    "    Visualizes air pollutant trends against NECD directive limits\n",
    "\n",
    "    Args:\n",
    "        df (pd.DataFrame): df with pollutant data.\n",
    "        pollutant (str): The pollutant being visualized ('SO2', 'PM10','NO2').\n",
    "        data_type (str): Type of data in df ('ura', 'dan','leto').\n",
    "    \"\"\"\n",
    "\n",
    "    limit = SNOV_FILTER[pollutant][f\"omejitev_{data_type}\"]\n",
    "    direktiva = pd.to_datetime(SNOV_FILTER[pollutant][\"direktiva\"])\n",
    "    df = filter_region_year(df, pollutant)\n",
    "    max_val = df.groupby([\"Regija\", \"Datum\"])[pollutant].mean().max()\n",
    "\n",
    "    def plot_region_trend(region: str, df_region: pd.DataFrame, ax: plt.axes):\n",
    "        df_agg = df_region.groupby([\"Regija\", \"Datum\"])[pollutant].mean().reset_index()\n",
    "        df_agg[\"rolling_avg\"] = df_agg[pollutant].rolling(window=12).mean()\n",
    "        df_agg[\"rolling_std\"] = df_agg[pollutant].rolling(window=12).std()\n",
    "\n",
    "        x_val = df_agg[\"Datum\"].values\n",
    "        y_val = df_agg[pollutant].values\n",
    "        y_avg = df_agg[\"rolling_avg\"].values\n",
    "        y_std = df_agg[\"rolling_std\"].values\n",
    "\n",
    "        ax.plot(x_val, y_val, label=f\"Nivo {pollutant}\", alpha=0.75)\n",
    "        ax.plot(x_val, y_avg, label=f\"drsno povprečje (leto)\", color=\"red\")\n",
    "        ax.fill_between(\n",
    "            x_val,\n",
    "            y_avg - y_std,\n",
    "            y_avg + y_std,\n",
    "            color=\"orange\",\n",
    "            alpha=0.25,\n",
    "            label=\"drsni std. odklon (leto)\",\n",
    "        )\n",
    "\n",
    "        ax.axhline(limit, color=\"blue\", linewidth=1.5)\n",
    "        ax.annotate(\n",
    "            f\"{limit}µg/m3 omejitev\",\n",
    "            xy=(x_val[-1], limit),\n",
    "            ha=\"right\",\n",
    "            va=\"bottom\",\n",
    "            color=\"darkblue\",\n",
    "            fontweight=\"bold\",\n",
    "        )\n",
    "\n",
    "        ax.axvline(direktiva, color=\"green\", linestyle=\"--\")\n",
    "        ax.annotate(\n",
    "            f\"NEC Direktiva {direktiva.year}\",\n",
    "            xy=(direktiva, max_val),\n",
    "            xytext=(3, 0),\n",
    "            textcoords=\"offset points\",\n",
    "            ha=\"left\",\n",
    "            va=\"top\",\n",
    "            color=\"forestgreen\",\n",
    "            fontweight=\"bold\",\n",
    "            bbox=dict(boxstyle=\"round\", fc=\"white\", alpha=0.6, edgecolor=\"green\"),\n",
    "        )\n",
    "        ax.set_xlabel(\"Leto\")\n",
    "        ax.set_title(f\"{region}\")\n",
    "\n",
    "    st_regij = len(df[\"Regija\"].unique())\n",
    "    n_cols = 2\n",
    "    n_rows = math.ceil(st_regij / n_cols)\n",
    "    fig, axes = plt.subplots(n_rows, n_cols, figsize=(14, 10), sharey=True)\n",
    "    axes = axes.flatten()\n",
    "    for i, region in enumerate(df[\"Regija\"].unique()):\n",
    "        plot_region_trend(region, df.loc[df[\"Regija\"] == region, :], ax=axes[i])\n",
    "\n",
    "    title = \"\"\n",
    "    ylabel = \"\"\n",
    "    match data_type:\n",
    "        case \"ura\":\n",
    "            title = f\"Trendi gibanja najvišje urne ravni za {pollutant}\"\n",
    "            ylabel = f\"Najišja urna raven {pollutant} µg/m3\"\n",
    "        case \"dan\":\n",
    "            title = f\"Trendi gibanja najvišje dnevne ravni za {pollutant}\"\n",
    "            ylabel = f\"Najvišja dnevna raven {pollutant} µg/m3\"\n",
    "        case \"leto\":\n",
    "            title = f\"Trendi gibanja povprečne mesečne ravni za {pollutant}\"\n",
    "            ylabel = f\"Povprečna mesečna raven {pollutant} µg/m3\"\n",
    "\n",
    "    fig.suptitle(title)\n",
    "    fig.supylabel(ylabel)\n",
    "\n",
    "    axes = trim_axs(axes, st_regij)\n",
    "\n",
    "    handles, labels = axes[\n",
    "        0\n",
    "    ].get_legend_handles_labels()  # Get handles/labels from first subplot\n",
    "    fig.legend(\n",
    "        handles,\n",
    "        labels,\n",
    "        loc=\"lower center\",\n",
    "        ncol=4,\n",
    "        bbox_to_anchor=(0.5, -0.025),\n",
    "        fontsize=\"small\",\n",
    "    )\n",
    "    plt.tight_layout()\n",
    "    plt.show()"
   ]
  },
  {
   "cell_type": "code",
   "execution_count": null,
   "metadata": {},
   "outputs": [],
   "source": [
    "plot_pollutant_trends(df=df_urne,pollutant=\"SO2\",data_type=\"ura\")"
   ]
  },
  {
   "cell_type": "code",
   "execution_count": null,
   "metadata": {},
   "outputs": [],
   "source": [
    "plot_pollutant_trends(df=df_dnevne,pollutant=\"SO2\",data_type=\"dan\")"
   ]
  },
  {
   "cell_type": "code",
   "execution_count": null,
   "metadata": {},
   "outputs": [],
   "source": [
    "plot_pollutant_trends(df=df_mesecne,pollutant=\"PM10\",data_type=\"leto\")"
   ]
  },
  {
   "cell_type": "code",
   "execution_count": null,
   "metadata": {},
   "outputs": [],
   "source": [
    "plot_pollutant_trends(df=df_urne,pollutant=\"NO2\",data_type=\"ura\")"
   ]
  },
  {
   "cell_type": "code",
   "execution_count": null,
   "metadata": {},
   "outputs": [],
   "source": [
    "plot_pollutant_trends(df=df_mesecne,pollutant=\"NO2\",data_type=\"leto\")"
   ]
  }
 ],
 "metadata": {
  "kernelspec": {
   "display_name": "umetna-inteligenca",
   "language": "python",
   "name": "python3"
  },
  "language_info": {
   "codemirror_mode": {
    "name": "ipython",
    "version": 3
   },
   "file_extension": ".py",
   "mimetype": "text/x-python",
   "name": "python",
   "nbconvert_exporter": "python",
   "pygments_lexer": "ipython3",
   "version": "3.12.3"
  }
 },
 "nbformat": 4,
 "nbformat_minor": 2
}
