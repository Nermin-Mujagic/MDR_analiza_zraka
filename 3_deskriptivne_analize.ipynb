{
 "cells": [
  {
   "cell_type": "code",
   "execution_count": 10,
   "id": "7b742d88",
   "metadata": {},
   "outputs": [
    {
     "name": "stdout",
     "output_type": "stream",
     "text": [
      "The autoreload extension is already loaded. To reload it, use:\n",
      "  %reload_ext autoreload\n"
     ]
    }
   ],
   "source": [
    "%load_ext autoreload\n",
    "%autoreload 2"
   ]
  },
  {
   "cell_type": "code",
   "execution_count": 11,
   "id": "d5103478",
   "metadata": {},
   "outputs": [],
   "source": [
    "import pandas as pd\n",
    "import numpy as np\n",
    "from pathlib import Path\n",
    "from helpers import (\n",
    "    REGIJE_FILTER,\n",
    "    filter_region_year,\n",
    ")"
   ]
  },
  {
   "cell_type": "code",
   "execution_count": 49,
   "id": "87d0f76c",
   "metadata": {},
   "outputs": [
    {
     "data": {
      "text/plain": [
       "Regija    0\n",
       "Datum     0\n",
       "SO2       2\n",
       "dtype: int64"
      ]
     },
     "execution_count": 49,
     "metadata": {},
     "output_type": "execute_result"
    }
   ],
   "source": [
    "import locale\n",
    "from pandas.tseries.offsets import MonthEnd\n",
    "\n",
    "locale.setlocale(locale.LC_ALL, \"sl_SI.utf8\")\n",
    "WIDE_PATH = Path(\"podatki/wide_df.csv\")\n",
    "\n",
    "df = pd.read_csv(WIDE_PATH,parse_dates=['Datum'])\n",
    "\n",
    "so2 = filter_region_year(df,\"SO2\")\n",
    "\n",
    "so2.dropna(inplace=True)\n",
    "\n",
    "so2_agg = so2.groupby(['Regija','Datum'])['SO2'].mean().reset_index()\n",
    "\n",
    "so2_pivot = so2_agg.pivot(index='Datum',columns='Regija',values='SO2')\n",
    "\n",
    "tmp = so2_pivot[so2_pivot.isna().any(axis=1)]\n",
    "\n",
    "tmp.reset_index(inplace=True)\n",
    "\n",
    "tmp = tmp.melt(id_vars='Datum',var_name='Regija',value_name='SO2')\n",
    "\n",
    "tmp = tmp.loc[tmp['SO2'].isna(),]\n",
    "\n",
    "pd.concat([so2, tmp]).isna().sum()\n",
    "\n",
    "\n",
    "\n",
    "\n",
    "\n",
    "\n"
   ]
  }
 ],
 "metadata": {
  "kernelspec": {
   "display_name": "umetna-inteligenca",
   "language": "python",
   "name": "python3"
  },
  "language_info": {
   "codemirror_mode": {
    "name": "ipython",
    "version": 3
   },
   "file_extension": ".py",
   "mimetype": "text/x-python",
   "name": "python",
   "nbconvert_exporter": "python",
   "pygments_lexer": "ipython3",
   "version": "3.12.3"
  }
 },
 "nbformat": 4,
 "nbformat_minor": 5
}
