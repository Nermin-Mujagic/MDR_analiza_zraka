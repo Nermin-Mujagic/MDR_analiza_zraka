{
 "cells": [
  {
   "cell_type": "code",
   "execution_count": null,
   "metadata": {},
   "outputs": [],
   "source": [
    "import pandas as pd\n",
    "import os  \n",
    "import json \n",
    "from IPython.display import display\n"
   ]
  },
  {
   "cell_type": "markdown",
   "metadata": {},
   "source": [
    "Step1: DataFrame for each air pollutant\n",
    "- read each csv\n",
    "- input into dataframe\n",
    "- convert into long format"
   ]
  },
  {
   "cell_type": "code",
   "execution_count": 121,
   "metadata": {},
   "outputs": [],
   "source": [
    "nevarne_snovi = [(\"PM10\", 1999), (\"SO2\", 1997)]\n",
    "meseci = [\"Jan\", \"Feb\", \"Mar\", \"Apr\", \"Maj\",\"Jun\", \"Jul\", \"Avg\", \"Sep\", \"Okt\", \"Nov\",\"Dec\"]\n"
   ]
  },
  {
   "cell_type": "code",
   "execution_count": 124,
   "metadata": {},
   "outputs": [
    {
     "name": "stdout",
     "output_type": "stream",
     "text": [
      "Reading complete!\n",
      "Reading complete!\n"
     ]
    }
   ],
   "source": [
    "pd_dict = {}\n",
    "\n",
    "\n",
    "for snov,zac_leto in nevarne_snovi:\n",
    "    dir_path = f\"podatki/{snov}\"\n",
    "\n",
    "    for leto, leto_file in enumerate(sorted(os.listdir(dir_path)),start=zac_leto):\n",
    "        file_path = os.path.join(dir_path, leto_file)\n",
    "        df = pd.read_csv(file_path, na_values=[\"\", \",\", \" \",\"/\"])\n",
    "        first_col = df.columns[0]\n",
    "        df.insert(1, \"Leto\", leto)\n",
    "        # get rid of two postaja\n",
    "        if first_col != \"Postaja\":\n",
    "            df.rename(columns={first_col: \"Postaja\"}, inplace=True)\n",
    "\n",
    "        df = df.melt(id_vars=[\"Postaja\", \"Leto\"], value_vars=meseci,var_name=\"Mesec\",value_name=snov)\n",
    "        if snov not in pd_dict:\n",
    "            pd_dict[snov] = df\n",
    "        else:\n",
    "            pd_dict[snov] = pd.concat([pd_dict[snov], df])\n",
    "\n",
    "    pd_dict[snov].to_csv(f\"podatki/df/{snov}.csv\")\n",
    "\n",
    "    print(f\"Reading complete!\")"
   ]
  },
  {
   "cell_type": "markdown",
   "metadata": {},
   "source": [
    "Step2: Map stations to regions"
   ]
  },
  {
   "cell_type": "code",
   "execution_count": null,
   "metadata": {},
   "outputs": [],
   "source": [
    "map_dict = "
   ]
  }
 ],
 "metadata": {
  "kernelspec": {
   "display_name": "umetna-inteligenca",
   "language": "python",
   "name": "python3"
  },
  "language_info": {
   "codemirror_mode": {
    "name": "ipython",
    "version": 3
   },
   "file_extension": ".py",
   "mimetype": "text/x-python",
   "name": "python",
   "nbconvert_exporter": "python",
   "pygments_lexer": "ipython3",
   "version": "3.12.3"
  }
 },
 "nbformat": 4,
 "nbformat_minor": 2
}
