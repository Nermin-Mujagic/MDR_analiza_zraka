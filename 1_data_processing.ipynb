{
 "cells": [
  {
   "cell_type": "code",
   "execution_count": 47,
   "metadata": {},
   "outputs": [],
   "source": [
    "import pandas as pd\n",
    "import os\n",
    "import json\n",
    "from IPython.display import display"
   ]
  },
  {
   "cell_type": "markdown",
   "metadata": {},
   "source": [
    "Step1: DataFrame for each air pollutant\n",
    "- read each csv\n",
    "- input into dataframe\n",
    "- convert into long format"
   ]
  },
  {
   "cell_type": "code",
   "execution_count": 48,
   "metadata": {},
   "outputs": [],
   "source": [
    "nevarne_snovi = [(\"PM10\", 1999), (\"SO2\", 1997)]\n",
    "meseci = [\"Jan\", \"Feb\", \"Mar\", \"Apr\", \"Maj\",\"Jun\", \"Jul\", \"Avg\", \"Sep\", \"Okt\", \"Nov\",\"Dec\"]\n"
   ]
  },
  {
   "cell_type": "code",
   "execution_count": 49,
   "metadata": {},
   "outputs": [
    {
     "name": "stdout",
     "output_type": "stream",
     "text": [
      "Reading complete!\n",
      "Reading complete!\n"
     ]
    }
   ],
   "source": [
    "pd_dict = {}\n",
    "\n",
    "\n",
    "for snov,zac_leto in nevarne_snovi:\n",
    "    dir_path = f\"podatki/{snov}\"\n",
    "\n",
    "    for leto, leto_file in enumerate(sorted(os.listdir(dir_path)),start=zac_leto):\n",
    "        file_path = os.path.join(dir_path, leto_file)\n",
    "        df = pd.read_csv(file_path, na_values=[\"\", \",\", \" \",\"/\"])\n",
    "        \n",
    "        df.insert(1, \"Leto\", leto)\n",
    "        # get rid of two postaja\n",
    "\n",
    "        df = df.melt(id_vars=[\"Postaja\", \"Leto\"], value_vars=meseci,var_name=\"Mesec\",value_name=snov)\n",
    "        if snov not in pd_dict:\n",
    "            pd_dict[snov] = df\n",
    "        else:\n",
    "            pd_dict[snov] = pd.concat([pd_dict[snov], df])\n",
    "    \n",
    "    pd_dict[snov]['Postaja'] = pd_dict[snov]['Postaja'].str.lower()\n",
    "\n",
    "    pd_dict[snov].to_csv(f\"podatki/df/{snov}.csv\")\n",
    "\n",
    "    print(f\"Reading complete!\")"
   ]
  },
  {
   "cell_type": "code",
   "execution_count": null,
   "metadata": {},
   "outputs": [
    {
     "data": {
      "text/html": [
       "<div>\n",
       "<style scoped>\n",
       "    .dataframe tbody tr th:only-of-type {\n",
       "        vertical-align: middle;\n",
       "    }\n",
       "\n",
       "    .dataframe tbody tr th {\n",
       "        vertical-align: top;\n",
       "    }\n",
       "\n",
       "    .dataframe thead th {\n",
       "        text-align: right;\n",
       "    }\n",
       "</style>\n",
       "<table border=\"1\" class=\"dataframe\">\n",
       "  <thead>\n",
       "    <tr style=\"text-align: right;\">\n",
       "      <th></th>\n",
       "      <th>Postaja</th>\n",
       "      <th>Leto</th>\n",
       "      <th>Mesec</th>\n",
       "      <th>PM10</th>\n",
       "    </tr>\n",
       "  </thead>\n",
       "  <tbody>\n",
       "    <tr>\n",
       "      <th>13</th>\n",
       "      <td>žerjav</td>\n",
       "      <td>2010</td>\n",
       "      <td>Jan</td>\n",
       "      <td>64.0</td>\n",
       "    </tr>\n",
       "    <tr>\n",
       "      <th>35</th>\n",
       "      <td>žerjav</td>\n",
       "      <td>2010</td>\n",
       "      <td>Feb</td>\n",
       "      <td>44.0</td>\n",
       "    </tr>\n",
       "    <tr>\n",
       "      <th>57</th>\n",
       "      <td>žerjav</td>\n",
       "      <td>2010</td>\n",
       "      <td>Mar</td>\n",
       "      <td>25.0</td>\n",
       "    </tr>\n",
       "    <tr>\n",
       "      <th>79</th>\n",
       "      <td>žerjav</td>\n",
       "      <td>2010</td>\n",
       "      <td>Apr</td>\n",
       "      <td>19.0</td>\n",
       "    </tr>\n",
       "    <tr>\n",
       "      <th>101</th>\n",
       "      <td>žerjav</td>\n",
       "      <td>2010</td>\n",
       "      <td>Maj</td>\n",
       "      <td>15.0</td>\n",
       "    </tr>\n",
       "    <tr>\n",
       "      <th>...</th>\n",
       "      <td>...</td>\n",
       "      <td>...</td>\n",
       "      <td>...</td>\n",
       "      <td>...</td>\n",
       "    </tr>\n",
       "    <tr>\n",
       "      <th>288</th>\n",
       "      <td>žerjav</td>\n",
       "      <td>2023</td>\n",
       "      <td>Avg</td>\n",
       "      <td>37.0</td>\n",
       "    </tr>\n",
       "    <tr>\n",
       "      <th>326</th>\n",
       "      <td>žerjav</td>\n",
       "      <td>2023</td>\n",
       "      <td>Sep</td>\n",
       "      <td>24.0</td>\n",
       "    </tr>\n",
       "    <tr>\n",
       "      <th>364</th>\n",
       "      <td>žerjav</td>\n",
       "      <td>2023</td>\n",
       "      <td>Okt</td>\n",
       "      <td>21.0</td>\n",
       "    </tr>\n",
       "    <tr>\n",
       "      <th>402</th>\n",
       "      <td>žerjav</td>\n",
       "      <td>2023</td>\n",
       "      <td>Nov</td>\n",
       "      <td>20.0</td>\n",
       "    </tr>\n",
       "    <tr>\n",
       "      <th>440</th>\n",
       "      <td>žerjav</td>\n",
       "      <td>2023</td>\n",
       "      <td>Dec</td>\n",
       "      <td>24.0</td>\n",
       "    </tr>\n",
       "  </tbody>\n",
       "</table>\n",
       "<p>168 rows × 4 columns</p>\n",
       "</div>"
      ],
      "text/plain": [
       "    Postaja  Leto Mesec  PM10\n",
       "13   žerjav  2010   Jan  64.0\n",
       "35   žerjav  2010   Feb  44.0\n",
       "57   žerjav  2010   Mar  25.0\n",
       "79   žerjav  2010   Apr  19.0\n",
       "101  žerjav  2010   Maj  15.0\n",
       "..      ...   ...   ...   ...\n",
       "288  žerjav  2023   Avg  37.0\n",
       "326  žerjav  2023   Sep  24.0\n",
       "364  žerjav  2023   Okt  21.0\n",
       "402  žerjav  2023   Nov  20.0\n",
       "440  žerjav  2023   Dec  24.0\n",
       "\n",
       "[168 rows x 4 columns]"
      ]
     },
     "execution_count": 50,
     "metadata": {},
     "output_type": "execute_result"
    }
   ],
   "source": [
    "\"\"\" pm_dict = pd_dict['PM10']\n",
    "\n",
    "pm_dict[pm_dict['Postaja'] == 'žerjav'] \"\"\""
   ]
  },
  {
   "cell_type": "markdown",
   "metadata": {},
   "source": [
    "Step2: Map stations to regions"
   ]
  },
  {
   "cell_type": "code",
   "execution_count": null,
   "metadata": {},
   "outputs": [
    {
     "ename": "InvalidIndexError",
     "evalue": "Reindexing only valid with uniquely valued Index objects",
     "output_type": "error",
     "traceback": [
      "\u001b[31m---------------------------------------------------------------------------\u001b[39m",
      "\u001b[31mInvalidIndexError\u001b[39m                         Traceback (most recent call last)",
      "\u001b[36mCell\u001b[39m\u001b[36m \u001b[39m\u001b[32mIn[46]\u001b[39m\u001b[32m, line 13\u001b[39m\n\u001b[32m      9\u001b[39m tmp = pd.Series(map_dict).explode()\n\u001b[32m     12\u001b[39m \u001b[38;5;28;01mfor\u001b[39;00m snov, leto \u001b[38;5;129;01min\u001b[39;00m nevarne_snovi:\n\u001b[32m---> \u001b[39m\u001b[32m13\u001b[39m     display(pd_dict[snov].insert(loc=\u001b[32m1\u001b[39m,column=\u001b[33m'\u001b[39m\u001b[33mRegija\u001b[39m\u001b[33m'\u001b[39m, value=\u001b[43mpd_dict\u001b[49m\u001b[43m[\u001b[49m\u001b[43msnov\u001b[49m\u001b[43m]\u001b[49m\u001b[43m[\u001b[49m\u001b[33;43m'\u001b[39;49m\u001b[33;43mPostaja\u001b[39;49m\u001b[33;43m'\u001b[39;49m\u001b[43m]\u001b[49m\u001b[43m.\u001b[49m\u001b[43mmap\u001b[49m\u001b[43m(\u001b[49m\u001b[43mpd\u001b[49m\u001b[43m.\u001b[49m\u001b[43mSeries\u001b[49m\u001b[43m(\u001b[49m\u001b[43mtmp\u001b[49m\u001b[43m.\u001b[49m\u001b[43mindex\u001b[49m\u001b[43m,\u001b[49m\u001b[43m \u001b[49m\u001b[43mtmp\u001b[49m\u001b[43m)\u001b[49m\u001b[43m)\u001b[49m))\n",
      "\u001b[36mFile \u001b[39m\u001b[32m~/.venv/umetna-inteligenca/lib/python3.12/site-packages/pandas/core/series.py:4700\u001b[39m, in \u001b[36mSeries.map\u001b[39m\u001b[34m(self, arg, na_action)\u001b[39m\n\u001b[32m   4620\u001b[39m \u001b[38;5;28;01mdef\u001b[39;00m \u001b[34mmap\u001b[39m(\n\u001b[32m   4621\u001b[39m     \u001b[38;5;28mself\u001b[39m,\n\u001b[32m   4622\u001b[39m     arg: Callable | Mapping | Series,\n\u001b[32m   4623\u001b[39m     na_action: Literal[\u001b[33m\"\u001b[39m\u001b[33mignore\u001b[39m\u001b[33m\"\u001b[39m] | \u001b[38;5;28;01mNone\u001b[39;00m = \u001b[38;5;28;01mNone\u001b[39;00m,\n\u001b[32m   4624\u001b[39m ) -> Series:\n\u001b[32m   4625\u001b[39m \u001b[38;5;250m    \u001b[39m\u001b[33;03m\"\"\"\u001b[39;00m\n\u001b[32m   4626\u001b[39m \u001b[33;03m    Map values of Series according to an input mapping or function.\u001b[39;00m\n\u001b[32m   4627\u001b[39m \n\u001b[32m   (...)\u001b[39m\u001b[32m   4698\u001b[39m \u001b[33;03m    dtype: object\u001b[39;00m\n\u001b[32m   4699\u001b[39m \u001b[33;03m    \"\"\"\u001b[39;00m\n\u001b[32m-> \u001b[39m\u001b[32m4700\u001b[39m     new_values = \u001b[38;5;28;43mself\u001b[39;49m\u001b[43m.\u001b[49m\u001b[43m_map_values\u001b[49m\u001b[43m(\u001b[49m\u001b[43marg\u001b[49m\u001b[43m,\u001b[49m\u001b[43m \u001b[49m\u001b[43mna_action\u001b[49m\u001b[43m=\u001b[49m\u001b[43mna_action\u001b[49m\u001b[43m)\u001b[49m\n\u001b[32m   4701\u001b[39m     \u001b[38;5;28;01mreturn\u001b[39;00m \u001b[38;5;28mself\u001b[39m._constructor(new_values, index=\u001b[38;5;28mself\u001b[39m.index, copy=\u001b[38;5;28;01mFalse\u001b[39;00m).__finalize__(\n\u001b[32m   4702\u001b[39m         \u001b[38;5;28mself\u001b[39m, method=\u001b[33m\"\u001b[39m\u001b[33mmap\u001b[39m\u001b[33m\"\u001b[39m\n\u001b[32m   4703\u001b[39m     )\n",
      "\u001b[36mFile \u001b[39m\u001b[32m~/.venv/umetna-inteligenca/lib/python3.12/site-packages/pandas/core/base.py:921\u001b[39m, in \u001b[36mIndexOpsMixin._map_values\u001b[39m\u001b[34m(self, mapper, na_action, convert)\u001b[39m\n\u001b[32m    918\u001b[39m \u001b[38;5;28;01mif\u001b[39;00m \u001b[38;5;28misinstance\u001b[39m(arr, ExtensionArray):\n\u001b[32m    919\u001b[39m     \u001b[38;5;28;01mreturn\u001b[39;00m arr.map(mapper, na_action=na_action)\n\u001b[32m--> \u001b[39m\u001b[32m921\u001b[39m \u001b[38;5;28;01mreturn\u001b[39;00m \u001b[43malgorithms\u001b[49m\u001b[43m.\u001b[49m\u001b[43mmap_array\u001b[49m\u001b[43m(\u001b[49m\u001b[43marr\u001b[49m\u001b[43m,\u001b[49m\u001b[43m \u001b[49m\u001b[43mmapper\u001b[49m\u001b[43m,\u001b[49m\u001b[43m \u001b[49m\u001b[43mna_action\u001b[49m\u001b[43m=\u001b[49m\u001b[43mna_action\u001b[49m\u001b[43m,\u001b[49m\u001b[43m \u001b[49m\u001b[43mconvert\u001b[49m\u001b[43m=\u001b[49m\u001b[43mconvert\u001b[49m\u001b[43m)\u001b[49m\n",
      "\u001b[36mFile \u001b[39m\u001b[32m~/.venv/umetna-inteligenca/lib/python3.12/site-packages/pandas/core/algorithms.py:1732\u001b[39m, in \u001b[36mmap_array\u001b[39m\u001b[34m(arr, mapper, na_action, convert)\u001b[39m\n\u001b[32m   1728\u001b[39m     mapper = mapper[mapper.index.notna()]\n\u001b[32m   1730\u001b[39m \u001b[38;5;66;03m# Since values were input this means we came from either\u001b[39;00m\n\u001b[32m   1731\u001b[39m \u001b[38;5;66;03m# a dict or a series and mapper should be an index\u001b[39;00m\n\u001b[32m-> \u001b[39m\u001b[32m1732\u001b[39m indexer = \u001b[43mmapper\u001b[49m\u001b[43m.\u001b[49m\u001b[43mindex\u001b[49m\u001b[43m.\u001b[49m\u001b[43mget_indexer\u001b[49m\u001b[43m(\u001b[49m\u001b[43marr\u001b[49m\u001b[43m)\u001b[49m\n\u001b[32m   1733\u001b[39m new_values = take_nd(mapper._values, indexer)\n\u001b[32m   1735\u001b[39m \u001b[38;5;28;01mreturn\u001b[39;00m new_values\n",
      "\u001b[36mFile \u001b[39m\u001b[32m~/.venv/umetna-inteligenca/lib/python3.12/site-packages/pandas/core/indexes/base.py:3885\u001b[39m, in \u001b[36mIndex.get_indexer\u001b[39m\u001b[34m(self, target, method, limit, tolerance)\u001b[39m\n\u001b[32m   3882\u001b[39m \u001b[38;5;28mself\u001b[39m._check_indexing_method(method, limit, tolerance)\n\u001b[32m   3884\u001b[39m \u001b[38;5;28;01mif\u001b[39;00m \u001b[38;5;129;01mnot\u001b[39;00m \u001b[38;5;28mself\u001b[39m._index_as_unique:\n\u001b[32m-> \u001b[39m\u001b[32m3885\u001b[39m     \u001b[38;5;28;01mraise\u001b[39;00m InvalidIndexError(\u001b[38;5;28mself\u001b[39m._requires_unique_msg)\n\u001b[32m   3887\u001b[39m \u001b[38;5;28;01mif\u001b[39;00m \u001b[38;5;28mlen\u001b[39m(target) == \u001b[32m0\u001b[39m:\n\u001b[32m   3888\u001b[39m     \u001b[38;5;28;01mreturn\u001b[39;00m np.array([], dtype=np.intp)\n",
      "\u001b[31mInvalidIndexError\u001b[39m: Reindexing only valid with uniquely valued Index objects"
     ]
    }
   ],
   "source": [
    "map_dict = json.load(open(\"podatki/slovar.json\"))\n",
    "map_dict = {key: [v.lower() for v in values] for key,values in map_dict.items()}\n",
    "\n",
    "\"\"\" vsi_mappingsi = set([p for postaje in map_dict.values() for p in postaje])\n",
    "vse_postaje = set([postaja for df in pd_dict.values() for postaja in df['Postaja'].unique()])\n",
    "\n",
    "vse_postaje - vsi_mappingsi \"\"\"\n",
    "\n",
    "tmp = pd.Series(map_dict).explode()\n",
    "\n"
   ]
  },
  {
   "cell_type": "code",
   "execution_count": null,
   "metadata": {},
   "outputs": [],
   "source": []
  }
 ],
 "metadata": {
  "kernelspec": {
   "display_name": "umetna-inteligenca",
   "language": "python",
   "name": "python3"
  },
  "language_info": {
   "codemirror_mode": {
    "name": "ipython",
    "version": 3
   },
   "file_extension": ".py",
   "mimetype": "text/x-python",
   "name": "python",
   "nbconvert_exporter": "python",
   "pygments_lexer": "ipython3",
   "version": "3.12.3"
  }
 },
 "nbformat": 4,
 "nbformat_minor": 2
}
