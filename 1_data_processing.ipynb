{
 "cells": [
  {
   "cell_type": "code",
   "execution_count": 156,
   "metadata": {},
   "outputs": [
    {
     "name": "stdout",
     "output_type": "stream",
     "text": [
      "The autoreload extension is already loaded. To reload it, use:\n",
      "  %reload_ext autoreload\n"
     ]
    }
   ],
   "source": [
    "%load_ext autoreload\n",
    "%autoreload 2"
   ]
  },
  {
   "cell_type": "code",
   "execution_count": 157,
   "metadata": {},
   "outputs": [],
   "source": [
    "import pandas as pd\n",
    "from pathlib import Path\n",
    "import json\n",
    "import locale\n",
    "from IPython.display import display\n",
    "from datetime import datetime\n",
    "\n",
    "from helpers import renamePostaja, simplifyColumn,lowerSumniki"
   ]
  },
  {
   "cell_type": "markdown",
   "metadata": {},
   "source": [
    "Step1: DataFrame for each air pollutant\n",
    "- read each csv\n",
    "- input into dataframe\n",
    "- convert into long format"
   ]
  },
  {
   "cell_type": "code",
   "execution_count": 158,
   "metadata": {},
   "outputs": [],
   "source": [
    "NEVARNE_SNOVI = [(\"PM10\", 1999), (\"SO2\", 1997), (\"NOX\", 1997), (\"NO2\",1997)]\n",
    "MESECI = [\"Jan\", \"Feb\", \"Mar\", \"Apr\", \"Maj\",\"Jun\", \"Jul\", \"Avg\", \"Sep\", \"Okt\", \"Nov\",\"Dec\"]\n",
    "\n",
    "YEAR_MONTH_SORT = {\n",
    "    'by': ['Leto', 'Mesec'],\n",
    "    'key': lambda col: col if col.name != 'Mesec' else col.map(lambda x: datetime.strptime(x, '%b').month)\n",
    "}"
   ]
  },
  {
   "cell_type": "code",
   "execution_count": 163,
   "metadata": {},
   "outputs": [
    {
     "name": "stdout",
     "output_type": "stream",
     "text": [
      "saved: podatki/df_postaje/PM10.csv\n",
      "saved: podatki/df_postaje/SO2.csv\n",
      "saved: podatki/df_postaje/NOX.csv\n",
      "saved: podatki/df_postaje/NO2.csv\n"
     ]
    }
   ],
   "source": [
    "def extend_dataframe(repo: dict[str, pd.DataFrame], snov: str, to_add: pd.DataFrame):\n",
    "    repo[snov] = (\n",
    "        pd.concat([repo[snov], to_add], ignore_index=True) if snov in repo else to_add\n",
    "    )\n",
    "\n",
    "\n",
    "def dict_to_csv(repo: dict[str, pd.DataFrame], form: str):\n",
    "    for snov, df in repo.items():\n",
    "        path_dir = Path(f\"podatki/df_{form}\")\n",
    "\n",
    "        if Path.exists(path_dir):\n",
    "            filepath = path_dir / f\"{snov}.csv\"\n",
    "            df.to_csv(filepath, index=False)\n",
    "            print(f\"saved: {filepath}\")\n",
    "        else:\n",
    "            path_dir.mkdir()\n",
    "\n",
    "\n",
    "def load_air_pollutants(\n",
    "    nevarne_snovi: list[tuple[str, int]],\n",
    ") -> dict[str, pd.DataFrame]:\n",
    "    pd_dict = {}\n",
    "\n",
    "    for snov, zac_leto in nevarne_snovi:\n",
    "        dir_path = f\"podatki/{snov}\"\n",
    "        file_list = sorted(x for x in Path(dir_path).iterdir())\n",
    "\n",
    "        for leto, file_path in enumerate(file_list, start=zac_leto):\n",
    "            df = pd.read_csv(file_path, na_values=[\"\", \",\", \" \", \"/\"])\n",
    "\n",
    "            # cleanup\n",
    "            df = renamePostaja(df)\n",
    "            df = simplifyColumn(df, \"Postaja\", True)\n",
    "\n",
    "            # insert year column\n",
    "            df.insert(1, \"Leto\", leto)\n",
    "            # wide to long conversion\n",
    "            df = df.melt(\n",
    "                id_vars=[\"Postaja\", \"Leto\"],\n",
    "                value_vars=MESECI,\n",
    "                var_name=\"Mesec\",\n",
    "                value_name=snov,\n",
    "            )\n",
    "\n",
    "            # concat the dataframe\n",
    "            extend_dataframe(pd_dict, snov, df)\n",
    "\n",
    "    return pd_dict\n",
    "\n",
    "\n",
    "postaje_dict = load_air_pollutants(NEVARNE_SNOVI)\n",
    "dict_to_csv(postaje_dict, \"postaje\")"
   ]
  },
  {
   "cell_type": "markdown",
   "metadata": {},
   "source": [
    "Step2: Map stations to regions"
   ]
  },
  {
   "cell_type": "code",
   "execution_count": 164,
   "metadata": {},
   "outputs": [],
   "source": [
    "# returns (postaja->regija map, missing postaja)\n",
    "def postaja_regija_map(slovar_path: str) -> pd.Series:\n",
    "    # load dict from file\n",
    "    regija_dict = json.load(open(slovar_path))\n",
    "    # create dict for postaja->regija\n",
    "    regija_dict = {\n",
    "        postaja: regija\n",
    "        for regija, postaje in regija_dict.items()\n",
    "        for postaja in postaje\n",
    "    }\n",
    "    # create series for mapper; cleanup names, drop duplicates\n",
    "    regija_series = pd.Series(regija_dict, name=\"Regija\")\n",
    "    regija_series.index = regija_series.index.map(lowerSumniki)\n",
    "    regija_series = regija_series[~regija_series.index.duplicated()]\n",
    "    return regija_series\n",
    "\n",
    "\n",
    "# check and print if postaja exists without mapping\n",
    "def check_missing_mapping(postaje_dict: dict[str, pd.DataFrame], map_regija: pd.Series):\n",
    "    prevodi = set(map_regija.index.unique())\n",
    "    for snov, df in postaje_dict.items():\n",
    "        postaje = set(df[\"Postaja\"].unique())\n",
    "        inter = postaje - prevodi\n",
    "        if len(inter) > 0:\n",
    "            print(f\"{snov}: {inter}\")\n",
    "\n",
    "\n",
    "map_regija = postaja_regija_map(\"podatki/slovar.json\")\n",
    "check_missing_mapping(postaje_dict, map_regija)"
   ]
  },
  {
   "cell_type": "code",
   "execution_count": null,
   "metadata": {},
   "outputs": [
    {
     "data": {
      "text/html": [
       "<div>\n",
       "<style scoped>\n",
       "    .dataframe tbody tr th:only-of-type {\n",
       "        vertical-align: middle;\n",
       "    }\n",
       "\n",
       "    .dataframe tbody tr th {\n",
       "        vertical-align: top;\n",
       "    }\n",
       "\n",
       "    .dataframe thead th {\n",
       "        text-align: right;\n",
       "    }\n",
       "</style>\n",
       "<table border=\"1\" class=\"dataframe\">\n",
       "  <thead>\n",
       "    <tr style=\"text-align: right;\">\n",
       "      <th></th>\n",
       "      <th>Postaja</th>\n",
       "      <th>Regija</th>\n",
       "      <th>Leto</th>\n",
       "      <th>Mesec</th>\n",
       "      <th>PM10</th>\n",
       "    </tr>\n",
       "  </thead>\n",
       "  <tbody>\n",
       "    <tr>\n",
       "      <th>0</th>\n",
       "      <td>ljubljana f.</td>\n",
       "      <td>Osrednjeslovenska</td>\n",
       "      <td>1999</td>\n",
       "      <td>Jan</td>\n",
       "      <td>43.0</td>\n",
       "    </tr>\n",
       "    <tr>\n",
       "      <th>1</th>\n",
       "      <td>celje</td>\n",
       "      <td>Savinjska</td>\n",
       "      <td>1999</td>\n",
       "      <td>Jan</td>\n",
       "      <td>47.0</td>\n",
       "    </tr>\n",
       "    <tr>\n",
       "      <th>2</th>\n",
       "      <td>trbovlje</td>\n",
       "      <td>Zasavska</td>\n",
       "      <td>1999</td>\n",
       "      <td>Jan</td>\n",
       "      <td>52.0</td>\n",
       "    </tr>\n",
       "    <tr>\n",
       "      <th>3</th>\n",
       "      <td>eis celje</td>\n",
       "      <td>Savinjska</td>\n",
       "      <td>1999</td>\n",
       "      <td>Jan</td>\n",
       "      <td>50.0</td>\n",
       "    </tr>\n",
       "    <tr>\n",
       "      <th>4</th>\n",
       "      <td>ljubljana f.</td>\n",
       "      <td>Osrednjeslovenska</td>\n",
       "      <td>1999</td>\n",
       "      <td>Feb</td>\n",
       "      <td>46.0</td>\n",
       "    </tr>\n",
       "    <tr>\n",
       "      <th>...</th>\n",
       "      <td>...</td>\n",
       "      <td>...</td>\n",
       "      <td>...</td>\n",
       "      <td>...</td>\n",
       "      <td>...</td>\n",
       "    </tr>\n",
       "    <tr>\n",
       "      <th>6355</th>\n",
       "      <td>miklavz</td>\n",
       "      <td>Podravska</td>\n",
       "      <td>2023</td>\n",
       "      <td>Dec</td>\n",
       "      <td>NaN</td>\n",
       "    </tr>\n",
       "    <tr>\n",
       "      <th>6356</th>\n",
       "      <td>spuhlja</td>\n",
       "      <td>Podravska</td>\n",
       "      <td>2023</td>\n",
       "      <td>Dec</td>\n",
       "      <td>34.0</td>\n",
       "    </tr>\n",
       "    <tr>\n",
       "      <th>6357</th>\n",
       "      <td>ruse</td>\n",
       "      <td>Podravska</td>\n",
       "      <td>2023</td>\n",
       "      <td>Dec</td>\n",
       "      <td>13.0</td>\n",
       "    </tr>\n",
       "    <tr>\n",
       "      <th>6358</th>\n",
       "      <td>morsko</td>\n",
       "      <td>Goriška</td>\n",
       "      <td>2023</td>\n",
       "      <td>Dec</td>\n",
       "      <td>20.0</td>\n",
       "    </tr>\n",
       "    <tr>\n",
       "      <th>6359</th>\n",
       "      <td>gorenje polje</td>\n",
       "      <td>Goriška</td>\n",
       "      <td>2023</td>\n",
       "      <td>Dec</td>\n",
       "      <td>21.0</td>\n",
       "    </tr>\n",
       "  </tbody>\n",
       "</table>\n",
       "<p>6360 rows × 5 columns</p>\n",
       "</div>"
      ],
      "text/plain": [
       "            Postaja             Regija  Leto Mesec  PM10\n",
       "0      ljubljana f.  Osrednjeslovenska  1999   Jan  43.0\n",
       "1             celje          Savinjska  1999   Jan  47.0\n",
       "2          trbovlje           Zasavska  1999   Jan  52.0\n",
       "3         eis celje          Savinjska  1999   Jan  50.0\n",
       "4      ljubljana f.  Osrednjeslovenska  1999   Feb  46.0\n",
       "...             ...                ...   ...   ...   ...\n",
       "6355        miklavz          Podravska  2023   Dec   NaN\n",
       "6356        spuhlja          Podravska  2023   Dec  34.0\n",
       "6357           ruse          Podravska  2023   Dec  13.0\n",
       "6358         morsko            Goriška  2023   Dec  20.0\n",
       "6359  gorenje polje            Goriška  2023   Dec  21.0\n",
       "\n",
       "[6360 rows x 5 columns]"
      ]
     },
     "metadata": {},
     "output_type": "display_data"
    }
   ],
   "source": [
    "def add_regije_df(postaje_dict: dict[str, pd.DataFrame], mapper: pd.Series)->dict[str, pd.DataFrame]:\n",
    "    regije_dict = {}\n",
    "    for snov, df in postaje_dict.items():\n",
    "        regija_df = df.copy()\n",
    "        regija_df.insert(loc=1,column='Regija',value=regija_df['Postaja'].map(map_regija))\n",
    "        display(regija_df)\n",
    "        break\n",
    "\n",
    "\n",
    "\n",
    "\n"
   ]
  },
  {
   "cell_type": "code",
   "execution_count": null,
   "metadata": {},
   "outputs": [],
   "source": [
    "regije_dict[\"NOX\"]"
   ]
  },
  {
   "cell_type": "code",
   "execution_count": null,
   "metadata": {},
   "outputs": [],
   "source": [
    "PM10 = regije_dict[\"PM10\"]\n",
    "SO2 = regije_dict[\"SO2\"]\n",
    "NOX = regije_dict[\"NOX\"]\n",
    "NO2 = regije_dict[\"NO2\"]\n",
    "\n",
    "station_count = pd.DataFrame()\n",
    "\n",
    "PM10_counts = PM10.groupby(['Regija','Leto','Mesec'])['PM10'].count().reset_index(name='Count')\n",
    "\n"
   ]
  },
  {
   "cell_type": "code",
   "execution_count": null,
   "metadata": {},
   "outputs": [],
   "source": [
    "PM10_counts\n",
    "\n"
   ]
  },
  {
   "cell_type": "code",
   "execution_count": null,
   "metadata": {},
   "outputs": [],
   "source": []
  }
 ],
 "metadata": {
  "kernelspec": {
   "display_name": "umetna-inteligenca",
   "language": "python",
   "name": "python3"
  },
  "language_info": {
   "codemirror_mode": {
    "name": "ipython",
    "version": 3
   },
   "file_extension": ".py",
   "mimetype": "text/x-python",
   "name": "python",
   "nbconvert_exporter": "python",
   "pygments_lexer": "ipython3",
   "version": "3.12.3"
  }
 },
 "nbformat": 4,
 "nbformat_minor": 2
}
