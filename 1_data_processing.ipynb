{
 "cells": [
  {
   "cell_type": "code",
   "execution_count": null,
   "metadata": {},
   "outputs": [],
   "source": [
    "%load_ext autoreload\n",
    "%autoreload 2"
   ]
  },
  {
   "cell_type": "code",
   "execution_count": null,
   "metadata": {},
   "outputs": [],
   "source": [
    "import pandas as pd\n",
    "from pathlib import Path\n",
    "import json\n",
    "import locale\n",
    "from IPython.display import display\n",
    "from datetime import datetime\n",
    "import numpy as np\n",
    "\n",
    "from helpers import renamePostaja, simplifyColumn,lowerSumniki\n",
    "from scoring_system import ScoringSystem\n",
    "from functools import reduce"
   ]
  },
  {
   "cell_type": "markdown",
   "metadata": {},
   "source": [
    "Step1: DataFrame for each air pollutant\n",
    "- read each csv\n",
    "- input into dataframe\n",
    "- convert into long format"
   ]
  },
  {
   "cell_type": "code",
   "execution_count": 25,
   "metadata": {},
   "outputs": [],
   "source": [
    "NEVARNE_SNOVI = [\"SO2\",\"PM10\",\"NOX\",\"NO2\"]\n",
    "NEVARNE_SNOVI_p = [\"SO2\"]\n",
    "MESECI = [\"Jan\", \"Feb\", \"Mar\", \"Apr\", \"Maj\",\"Jun\", \"Jul\", \"Avg\", \"Sep\", \"Okt\", \"Nov\",\"Dec\"]\n",
    "\n",
    "YEAR_MONTH_SORT = {\n",
    "    'by': ['Leto', 'Mesec'],\n",
    "    'key': lambda col: col if col.name != 'Mesec' else col.map(lambda x: datetime.strptime(x, '%b').month)\n",
    "}"
   ]
  },
  {
   "cell_type": "code",
   "execution_count": 26,
   "metadata": {},
   "outputs": [],
   "source": [
    "def extend_dataframe(repo: dict[str, pd.DataFrame], snov: str, to_add: pd.DataFrame):\n",
    "    repo[snov] = (\n",
    "        pd.concat([repo[snov], to_add], ignore_index=True) if snov in repo else to_add\n",
    "    )\n",
    "\n",
    "\n",
    "def dict_to_csv(repo: dict[str, pd.DataFrame], form: str, cas: str):\n",
    "    for snov, df in repo.items():\n",
    "        path_dir = Path(f\"podatki/df_{form}/{cas}\")\n",
    "\n",
    "        if Path.exists(path_dir):\n",
    "            filepath = path_dir / f\"{snov}.csv\"\n",
    "            df.to_csv(filepath, index=False)\n",
    "            print(f\"saved: {filepath}\")\n",
    "        else:\n",
    "            path_dir.mkdir()\n",
    "\n",
    "\n",
    "def load_air_pollutants(nevarne_snovi: list[str], cas: str) -> dict[str, pd.DataFrame]:\n",
    "    pd_dict = {}\n",
    "\n",
    "    for snov in nevarne_snovi:\n",
    "        dir_path = f\"podatki/{snov}/{cas}\"\n",
    "        file_list = sorted(x for x in Path(dir_path).iterdir())\n",
    "\n",
    "        for file_path in file_list:\n",
    "            leto = file_path.stem\n",
    "\n",
    "            df = pd.read_csv(file_path, na_values=[\"\", \",\", \" \", \"/\"])\n",
    "\n",
    "            # cleanup\n",
    "            df = renamePostaja(df)\n",
    "            df = simplifyColumn(df, \"Postaja\", True)\n",
    "\n",
    "            # insert year column\n",
    "            df.insert(1, \"Leto\", leto)\n",
    "            # wide to long conversion\n",
    "            \n",
    "\n",
    "            if cas == \"mesecne\":\n",
    "                df = df.melt(\n",
    "                    id_vars=[\"Postaja\", \"Leto\"],\n",
    "                    value_vars=MESECI,\n",
    "                    var_name=\"Mesec\",\n",
    "                    value_name=snov,\n",
    "                )\n",
    "            elif cas == \"presezki\":\n",
    "                df = df.loc[~((df[\"Ura presežek\"] == 0) & (df[\"Dan presežek\"] == 0))]\n",
    "                df.rename(columns={\"Ura presežek\": f\"{snov} - Urnih presežkov\", \"Dan presežek\":f\"{snov} - Dnevnih presežkov\"},inplace=True)\n",
    "\n",
    "\n",
    "            # concat the dataframe\n",
    "            extend_dataframe(pd_dict, snov, df)\n",
    "\n",
    "    return pd_dict\n",
    "\n",
    "\n",
    "mesecne_postaje_dict = load_air_pollutants(NEVARNE_SNOVI, \"mesecne\")\n",
    "presezki_postaje_dict = load_air_pollutants(NEVARNE_SNOVI_p, \"presezki\")\n",
    "# dict_to_csv(mesecne_postaje_dict, \"postaje\", \"mesecne\")\n",
    "\n"
   ]
  },
  {
   "cell_type": "markdown",
   "metadata": {},
   "source": [
    "Step2: Map stations to regions"
   ]
  },
  {
   "cell_type": "code",
   "execution_count": 28,
   "metadata": {},
   "outputs": [],
   "source": [
    "# returns (postaja->regija map, missing postaja)\n",
    "def postaja_regija_map(slovar_path: str) -> pd.Series:\n",
    "    # load dict from file\n",
    "    regija_dict = json.load(open(slovar_path))\n",
    "    # create dict for postaja->regija\n",
    "    regija_dict = {\n",
    "        postaja: regija\n",
    "        for regija, postaje in regija_dict.items()\n",
    "        for postaja in postaje\n",
    "    }\n",
    "    # create series for mapper; cleanup names, drop duplicates\n",
    "    regija_series = pd.Series(regija_dict, name=\"Regija\")\n",
    "    regija_series.index = regija_series.index.map(lowerSumniki)\n",
    "    regija_series = regija_series[~regija_series.index.duplicated()]\n",
    "    return regija_series\n",
    "\n",
    "\n",
    "# check and print if postaja exists without mapping\n",
    "def check_missing_mapping(postaje_dict: dict[str, pd.DataFrame], map_regija: pd.Series):\n",
    "    prevodi = set(map_regija.index.unique())\n",
    "    for snov, df in postaje_dict.items():\n",
    "        postaje = set(df[\"Postaja\"].unique())\n",
    "        inter = postaje - prevodi\n",
    "        if len(inter) > 0:\n",
    "            print(f\"{snov}: {inter}\")\n",
    "\n",
    "\n",
    "map_regija = postaja_regija_map(\"podatki/slovar.json\")\n",
    "\n",
    "check_missing_mapping(presezki_postaje_dict,map_regija)\n",
    "check_missing_mapping(mesecne_postaje_dict, map_regija)\n"
   ]
  },
  {
   "cell_type": "code",
   "execution_count": 33,
   "metadata": {},
   "outputs": [],
   "source": [
    "def add_regije_df(\n",
    "    postaje_dict: dict[str, pd.DataFrame], mapper: pd.Series\n",
    ") -> dict[str, pd.DataFrame]:\n",
    "    regije_dict = {}\n",
    "    for snov, df in postaje_dict.items():\n",
    "        regija_df = df.copy()\n",
    "        regija_df.insert(loc=1, column=\"Regija\", value=regija_df[\"Postaja\"].map(mapper))\n",
    "\n",
    "        regije_dict[snov] = regija_df\n",
    "\n",
    "    return regije_dict\n",
    "\n",
    "#Step3 parameter za izracun\n",
    "mesecne_regije_dict = add_regije_df(postaje_dict=mesecne_postaje_dict, mapper=map_regija)\n",
    "# dict_to_csv(mesecne_regije_dict,\"regije\",\"mesecne\")\n",
    "\n",
    "presezki_regije_dict = add_regije_df(postaje_dict=presezki_postaje_dict,mapper=map_regija)"
   ]
  },
  {
   "cell_type": "code",
   "execution_count": 34,
   "metadata": {},
   "outputs": [],
   "source": [
    "locale.setlocale(locale.LC_ALL, \"sl_SI.utf8\")\n",
    "\n",
    "PM10 = mesecne_regije_dict[\"PM10\"].copy()\n",
    "SO2 = mesecne_regije_dict[\"SO2\"].copy()\n",
    "NO2 = mesecne_regije_dict[\"NO2\"].copy()\n",
    "NOX = mesecne_regije_dict[\"NOX\"].copy()\n",
    "\n",
    "\n",
    "tmp_list = [PM10, SO2, NO2, NOX]\n",
    "\n",
    "df_wide = reduce(\n",
    "    lambda left, right: pd.merge(\n",
    "        left, right, on=[\"Postaja\", \"Regija\", \"Leto\", \"Mesec\"], how=\"outer\"\n",
    "    ),\n",
    "    tmp_list,\n",
    ")\n",
    "df_wide.sort_values(**YEAR_MONTH_SORT, inplace=True)\n",
    "df_wide.to_csv(\"podatki/wide_df.csv\", index=False)"
   ]
  },
  {
   "cell_type": "code",
   "execution_count": 35,
   "metadata": {},
   "outputs": [],
   "source": [
    "PM10_long = PM10.rename(columns={\"PM10\": \"Vrednost\"})\n",
    "PM10_long.insert(loc=4, column=\"Snov\", value=\"PM10\")\n",
    "\n",
    "SO2_long = SO2.rename(columns={\"SO2\": \"Vrednost\"})\n",
    "SO2_long.insert(loc=4, column=\"Snov\", value=\"SO2\")\n",
    "\n",
    "NO2_long = NO2.rename(columns={\"NO2\": \"Vrednost\"})\n",
    "NO2_long.insert(loc=4, column=\"Snov\", value=\"NO2\")\n",
    "\n",
    "NOX_long = NOX.rename(columns={\"NOX\": \"Vrednost\"})\n",
    "NOX_long.insert(loc=4, column=\"Snov\", value=\"NOX\")\n",
    "\n",
    "tmp_list = [PM10_long, SO2_long, NO2_long, NOX_long]\n",
    "\n",
    "long_df = pd.concat(tmp_list)\n",
    "long_df.sort_values(**YEAR_MONTH_SORT, inplace=True)\n",
    "\n",
    "long_df.to_csv(\"podatki/long_df.csv\", index=False)"
   ]
  },
  {
   "cell_type": "code",
   "execution_count": 36,
   "metadata": {},
   "outputs": [],
   "source": [
    "full_df = df_wide.drop(columns='Postaja')\n"
   ]
  },
  {
   "cell_type": "code",
   "execution_count": 37,
   "metadata": {},
   "outputs": [],
   "source": [
    "scoring_system = ScoringSystem(full_df)\n",
    "\n",
    "pollutant_presence_df = scoring_system.coverage_score()\n",
    "coverage_matrices = scoring_system.create_coverage_matrix(pollutant_presence_df)\n",
    "\n",
    "for pollutant, scores in coverage_matrices.items():\n",
    "    scores.to_csv(f\"coverage/scores_{pollutant}.csv\")    \n",
    "\n"
   ]
  }
 ],
 "metadata": {
  "kernelspec": {
   "display_name": "umetna-inteligenca",
   "language": "python",
   "name": "python3"
  },
  "language_info": {
   "codemirror_mode": {
    "name": "ipython",
    "version": 3
   },
   "file_extension": ".py",
   "mimetype": "text/x-python",
   "name": "python",
   "nbconvert_exporter": "python",
   "pygments_lexer": "ipython3",
   "version": "3.12.3"
  }
 },
 "nbformat": 4,
 "nbformat_minor": 2
}
