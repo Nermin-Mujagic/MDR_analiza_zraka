{
 "cells": [
  {
   "cell_type": "code",
   "execution_count": 33,
   "metadata": {},
   "outputs": [
    {
     "name": "stdout",
     "output_type": "stream",
     "text": [
      "The autoreload extension is already loaded. To reload it, use:\n",
      "  %reload_ext autoreload\n"
     ]
    }
   ],
   "source": [
    "%load_ext autoreload\n",
    "%autoreload 2"
   ]
  },
  {
   "cell_type": "code",
   "execution_count": 34,
   "metadata": {},
   "outputs": [],
   "source": [
    "import pandas as pd\n",
    "from pathlib import Path\n",
    "import json\n",
    "import locale\n",
    "from IPython.display import display\n",
    "from pandas.tseries.offsets import MonthEnd\n",
    "\n",
    "from helpers import rename_postaja, strip_postaja, lower_sumniki, MESECI\n",
    "from functools import reduce"
   ]
  },
  {
   "cell_type": "markdown",
   "metadata": {},
   "source": [
    "Step1: DataFrame for each air pollutant\n",
    "\n",
    "- read each csv\n",
    "- input into dataframe\n",
    "- convert into long format\n"
   ]
  },
  {
   "cell_type": "code",
   "execution_count": 35,
   "metadata": {},
   "outputs": [],
   "source": [
    "NEVARNE_SNOVI = [\"SO2\", \"PM10\", \"NO2\"]\n",
    "\n",
    "\n",
    "def presezki_mapper(snov: str, columns: list[str]):\n",
    "    full_mapper = {\n",
    "        \"Ura presežek\": f\"{snov} - Urnih presežkov\",\n",
    "        \"Dan presežek\": f\"{snov} - Dnevnih presežkov\",\n",
    "    }\n",
    "    return {k: v for k, v in full_mapper.items() if k in columns}"
   ]
  },
  {
   "cell_type": "code",
   "execution_count": 36,
   "metadata": {},
   "outputs": [],
   "source": [
    "locale.setlocale(locale.LC_ALL, \"sl_SI.utf8\")\n",
    "\n",
    "\n",
    "def load_pollutant_data(\n",
    "    snov: str, cas: str, base_dir: Path = Path(\"podatki\")\n",
    ") -> list[pd.DataFrame]:\n",
    "\n",
    "    def load_and_transform_df(file: Path):\n",
    "        df = pd.read_csv(file, na_values=[\"/\"])\n",
    "        df = rename_postaja(df)\n",
    "        df = strip_postaja(df)\n",
    "\n",
    "        leto = file.stem\n",
    "        df.insert(1, \"Leto\", leto)\n",
    "        df = df.melt(\n",
    "            id_vars=[\"Postaja\", \"Leto\"],\n",
    "            value_vars=MESECI,\n",
    "            var_name=\"Mesec\",\n",
    "            value_name=snov,\n",
    "        )\n",
    "        df.insert(\n",
    "            loc=1,\n",
    "            column=\"Datum\",\n",
    "            value=pd.to_datetime(df[\"Leto\"] + \"-\" + df[\"Mesec\"], format=\"%Y-%b\")\n",
    "            + MonthEnd(0),\n",
    "        )\n",
    "\n",
    "        return df.drop(columns=['Leto','Mesec'])\n",
    "\n",
    "    def parse_pollutant_files():\n",
    "        dir_path = base_dir / snov / cas\n",
    "\n",
    "        if not dir_path.exists():\n",
    "            return\n",
    "\n",
    "        file_list = sorted([f for f in dir_path.iterdir()])\n",
    "        df_list = list(map(load_and_transform_df, file_list))\n",
    "\n",
    "        return pd.concat(df_list, ignore_index=True)\n",
    "\n",
    "    return parse_pollutant_files()\n",
    "\n",
    "\n",
    "# TO DO: fix this for further down\n",
    "def dict_to_csv(repo: dict[str, pd.DataFrame], form: str, cas: str):\n",
    "    for snov, df in repo.items():\n",
    "        path_dir = Path(f\"podatki/df_{form}/{cas}\")\n",
    "\n",
    "        if not Path.exists(path_dir):\n",
    "            path_dir.mkdir()\n",
    "\n",
    "        filepath = path_dir / f\"{snov}.csv\"\n",
    "        df.to_csv(filepath, index=False)\n",
    "        print(f\"saved: {filepath}\")\n",
    "\n",
    "\n",
    "mesecne_meritve = [\n",
    "    df\n",
    "    for df in list(\n",
    "        map(lambda snov: load_pollutant_data(snov, \"mesecne\"), NEVARNE_SNOVI)\n",
    "    )\n",
    "    if df is not None\n",
    "]\n",
    "dnevne_meritve = [\n",
    "    df\n",
    "    for df in list(map(lambda snov: load_pollutant_data(snov, \"dnevne\"), NEVARNE_SNOVI))\n",
    "    if df is not None\n",
    "]\n",
    "urne_meritve = [\n",
    "    df\n",
    "    for df in list(map(lambda snov: load_pollutant_data(snov, \"urne\"), NEVARNE_SNOVI))\n",
    "    if df is not None\n",
    "]"
   ]
  },
  {
   "cell_type": "code",
   "execution_count": 37,
   "metadata": {},
   "outputs": [],
   "source": [
    "# returns (postaja->regija map, missing postaja)\n",
    "def postaja_regija_map(slovar_path: str) -> pd.Series:\n",
    "    regija_dict = json.load(open(slovar_path))\n",
    "    # create dict for postaja->regija\n",
    "    regija_dict = {\n",
    "        postaja: regija\n",
    "        for regija, postaje in regija_dict.items()\n",
    "        for postaja in postaje\n",
    "    }\n",
    "    # create series for mapper; cleanup names, drop duplicates\n",
    "    regija_series = pd.Series(regija_dict, name=\"Regija\")\n",
    "    regija_series.index = regija_series.index.map(lower_sumniki)\n",
    "    regija_series = regija_series[~regija_series.index.duplicated(keep=\"first\")]\n",
    "    return regija_series\n",
    "\n",
    "\n",
    "# check and print if postaja exists without mapping\n",
    "def check_missing_mapping(list_df: list[pd.DataFrame], map_regija: pd.Series):\n",
    "    \"\"\"Checks if a region mapping is missing for station\"\"\"\n",
    "    postaje = pd.Series(\n",
    "        [postaja for df in list_df for postaja in df[\"Postaja\"].unique()]\n",
    "    ).drop_duplicates()\n",
    "\n",
    "    diff = postaje.loc[~postaje.isin(map_regija.index)]\n",
    "    if diff.size != 0:\n",
    "        print(diff)\n",
    "\n",
    "\n",
    "def assign_region_df(df: pd.DataFrame, mapper: pd.Series) -> pd.DataFrame:\n",
    "    df = df.copy()\n",
    "    df.insert(loc=1, column=\"Regija\", value=df[\"Postaja\"].map(mapper).values)\n",
    "    return df\n",
    "\n",
    "\n",
    "map_regija = postaja_regija_map(\"podatki/slovar.json\")\n",
    "\n",
    "# Ckeck for missing mappings\n",
    "check_missing_mapping(mesecne_meritve, map_regija)\n",
    "check_missing_mapping(urne_meritve, map_regija)\n",
    "check_missing_mapping(dnevne_meritve, map_regija)\n",
    "\n",
    "# Insert region\n",
    "list_mesecne = list(map(lambda df: assign_region_df(df, map_regija), mesecne_meritve))\n",
    "list_dnevne = list(map(lambda df: assign_region_df(df, map_regija), dnevne_meritve))\n",
    "list_urne = list(map(lambda df: assign_region_df(df, map_regija), urne_meritve))"
   ]
  },
  {
   "cell_type": "code",
   "execution_count": 38,
   "metadata": {},
   "outputs": [
    {
     "name": "stdout",
     "output_type": "stream",
     "text": [
      "saved file: podatki/df_mesecne.csv\n",
      "saved file: podatki/df_dnevne.csv\n",
      "saved file: podatki/df_urne.csv\n"
     ]
    }
   ],
   "source": [
    "df_mesecne = reduce(\n",
    "    lambda left,right: pd.merge(left,right,on=[\"Postaja\",\"Regija\",\"Datum\"],how='outer'),\n",
    "    list_mesecne\n",
    ").sort_values(by=['Datum','Regija'])\n",
    "\n",
    "df_dnevne = reduce(\n",
    "    lambda left,right: pd.merge(left,right,on=[\"Postaja\",\"Regija\",\"Datum\"],how='outer'),\n",
    "    list_dnevne\n",
    ").sort_values(by=['Datum','Regija'])\n",
    "\n",
    "df_urne = reduce(\n",
    "    lambda left,right: pd.merge(left,right,on=[\"Postaja\",\"Regija\",\"Datum\"],how='outer'),\n",
    "    list_urne\n",
    ")\n",
    "\n",
    "m_path = \"podatki/df_mesecne.csv\"\n",
    "df_mesecne.to_csv(m_path,index=False)\n",
    "print(f\"saved file: {m_path}\")\n",
    "\n",
    "d_path = \"podatki/df_dnevne.csv\"\n",
    "df_dnevne.to_csv(d_path,index=False)\n",
    "print(f\"saved file: {d_path}\")\n",
    "\n",
    "u_path = \"podatki/df_urne.csv\"\n",
    "df_urne.to_csv(u_path, index=False)\n",
    "print(f\"saved file: {u_path}\")\n",
    "\n"
   ]
  }
 ],
 "metadata": {
  "kernelspec": {
   "display_name": "umetna-inteligenca",
   "language": "python",
   "name": "python3"
  },
  "language_info": {
   "codemirror_mode": {
    "name": "ipython",
    "version": 3
   },
   "file_extension": ".py",
   "mimetype": "text/x-python",
   "name": "python",
   "nbconvert_exporter": "python",
   "pygments_lexer": "ipython3",
   "version": "3.12.3"
  }
 },
 "nbformat": 4,
 "nbformat_minor": 2
}
