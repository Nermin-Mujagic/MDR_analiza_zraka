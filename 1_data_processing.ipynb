{
 "cells": [
  {
   "cell_type": "code",
   "execution_count": 11,
   "metadata": {},
   "outputs": [
    {
     "name": "stdout",
     "output_type": "stream",
     "text": [
      "The autoreload extension is already loaded. To reload it, use:\n",
      "  %reload_ext autoreload\n"
     ]
    }
   ],
   "source": [
    "%load_ext autoreload\n",
    "%autoreload 2"
   ]
  },
  {
   "cell_type": "code",
   "execution_count": null,
   "metadata": {},
   "outputs": [],
   "source": [
    "import pandas as pd\n",
    "import os\n",
    "import json\n",
    "from IPython.display import display\n",
    "\n",
    "from helpers import renamePostaja, cleanPostaja, lowerSumniki"
   ]
  },
  {
   "cell_type": "markdown",
   "metadata": {},
   "source": [
    "Step1: DataFrame for each air pollutant\n",
    "- read each csv\n",
    "- input into dataframe\n",
    "- convert into long format"
   ]
  },
  {
   "cell_type": "code",
   "execution_count": null,
   "metadata": {},
   "outputs": [],
   "source": [
    "nevarne_snovi = [(\"PM10\", 1999), (\"SO2\", 1997), (\"NOX\", 1997)]\n",
    "meseci = [\"Jan\", \"Feb\", \"Mar\", \"Apr\", \"Maj\",\"Jun\", \"Jul\", \"Avg\", \"Sep\", \"Okt\", \"Nov\",\"Dec\"]"
   ]
  },
  {
   "cell_type": "code",
   "execution_count": 5,
   "metadata": {},
   "outputs": [
    {
     "name": "stdout",
     "output_type": "stream",
     "text": [
      "Reading complete!\n",
      "Reading complete!\n",
      "Reading complete!\n"
     ]
    }
   ],
   "source": [
    "pd_dict = {}\n",
    "\n",
    "\n",
    "for snov, zac_leto in nevarne_snovi:\n",
    "    dir_path = f\"podatki/{snov}\"\n",
    "\n",
    "    for leto, leto_file in enumerate(sorted(os.listdir(dir_path)), start=zac_leto):\n",
    "        file_path = os.path.join(dir_path, leto_file)\n",
    "        df = pd.read_csv(file_path, na_values=[\"\", \",\", \" \", \"/\"])\n",
    "\n",
    "        # cleanup\n",
    "        df = renamePostaja(df)\n",
    "        df = cleanPostaja(df)\n",
    "\n",
    "        #add year\n",
    "        df.insert(1, \"Leto\", leto)\n",
    "\n",
    "        #wide to long conversion\n",
    "        df = df.melt(\n",
    "            id_vars=[\"Postaja\", \"Leto\"],\n",
    "            value_vars=meseci,\n",
    "            var_name=\"Mesec\",\n",
    "            value_name=snov,\n",
    "        )\n",
    "        if snov not in pd_dict:\n",
    "            pd_dict[snov] = df\n",
    "        else:\n",
    "            pd_dict[snov] = pd.concat([pd_dict[snov], df])\n",
    "\n",
    "    print(f\"Reading complete!\")"
   ]
  },
  {
   "cell_type": "markdown",
   "metadata": {},
   "source": [
    "Step2: Map stations to regions"
   ]
  },
  {
   "cell_type": "code",
   "execution_count": null,
   "metadata": {},
   "outputs": [
    {
     "data": {
      "text/plain": [
       "{'eis krsko',\n",
       " 'graska gora',\n",
       " 'ib gregorciceva',\n",
       " 'ib recica',\n",
       " 'lj bezigrad',\n",
       " 'lj biotehnicna fak.',\n",
       " 'lj biotehniska',\n",
       " 'lj biotehniska fakulteta',\n",
       " 'lj celovska',\n",
       " 'lj vic',\n",
       " 'ljubljana bez.',\n",
       " 'ljubljana bezigrad',\n",
       " 'm. s.-rakican',\n",
       " 'maribor vrbanski plato',\n",
       " 'mb center',\n",
       " 'mb vrbanski pl.',\n",
       " 'miklavz',\n",
       " 'mobilna postaja',\n",
       " 'mobilna tes',\n",
       " 'ms rakican',\n",
       " 'murska s. rakican',\n",
       " 'murska s.-rakican',\n",
       " 'murska sobota rakican',\n",
       " 'murska sobota-rakican',\n",
       " 'ng grcna',\n",
       " 'pobrezje',\n",
       " 'rusa',\n",
       " 'ruse',\n",
       " 'sostanj',\n",
       " 'sv.mohor',\n",
       " 'sveti mohor',\n",
       " 'topolsica'}"
      ]
     },
     "execution_count": 12,
     "metadata": {},
     "output_type": "execute_result"
    }
   ],
   "source": [
    "map_dict = json.load(open(\"podatki/slovar.json\"))\n",
    "map_dict = {key: [lowerSumniki(v) for v in values] for key,values in map_dict.items()}\n",
    "\n",
    "vsi_mappingsi = set([p for postaje in map_dict.values() for p in postaje])\n",
    "vse_postaje = set([postaja for df in pd_dict.values() for postaja in df['Postaja'].unique()])\n",
    "\n",
    "vse_postaje - vsi_mappingsi\n",
    "\n"
   ]
  },
  {
   "cell_type": "code",
   "execution_count": null,
   "metadata": {},
   "outputs": [],
   "source": [
    "regije_dict = {}\n",
    "\n",
    "tmp = pd.Series(map_dict).explode().drop_duplicates()\n",
    "tmp = pd.Series(tmp.index, tmp)\n",
    "\n",
    "for snov, leto in nevarne_snovi:\n",
    "    regije_dict[snov] = pd_dict[snov].copy()\n",
    "    regije_dict[snov].insert(loc=1, column='Regija', value=regije_dict[snov]['Postaja'].map(tmp))"
   ]
  }
 ],
 "metadata": {
  "kernelspec": {
   "display_name": "umetna-inteligenca",
   "language": "python",
   "name": "python3"
  },
  "language_info": {
   "codemirror_mode": {
    "name": "ipython",
    "version": 3
   },
   "file_extension": ".py",
   "mimetype": "text/x-python",
   "name": "python",
   "nbconvert_exporter": "python",
   "pygments_lexer": "ipython3",
   "version": "3.12.3"
  }
 },
 "nbformat": 4,
 "nbformat_minor": 2
}
