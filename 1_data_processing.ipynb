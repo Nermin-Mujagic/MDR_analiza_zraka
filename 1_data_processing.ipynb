{
 "cells": [
  {
   "cell_type": "code",
   "execution_count": 2,
   "metadata": {},
   "outputs": [],
   "source": [
    "%load_ext autoreload\n",
    "%autoreload 2"
   ]
  },
  {
   "cell_type": "code",
   "execution_count": 9,
   "metadata": {},
   "outputs": [],
   "source": [
    "import pandas as pd\n",
    "from pathlib import Path\n",
    "import json\n",
    "import locale\n",
    "from IPython.display import display\n",
    "from datetime import datetime\n",
    "import numpy as np\n",
    "\n",
    "from helpers import renamePostaja, simplifyColumn,lowerSumniki\n",
    "from scoring_system import ScoringSystem"
   ]
  },
  {
   "cell_type": "markdown",
   "metadata": {},
   "source": [
    "Step1: DataFrame for each air pollutant\n",
    "- read each csv\n",
    "- input into dataframe\n",
    "- convert into long format"
   ]
  },
  {
   "cell_type": "code",
   "execution_count": 4,
   "metadata": {},
   "outputs": [],
   "source": [
    "NEVARNE_SNOVI = [(\"PM10\", 1999), (\"SO2\", 1997), (\"NOX\", 1997), (\"NO2\",1997)]\n",
    "MESECI = [\"Jan\", \"Feb\", \"Mar\", \"Apr\", \"Maj\",\"Jun\", \"Jul\", \"Avg\", \"Sep\", \"Okt\", \"Nov\",\"Dec\"]\n",
    "\n",
    "YEAR_MONTH_SORT = {\n",
    "    'by': ['Leto', 'Mesec'],\n",
    "    'key': lambda col: col if col.name != 'Mesec' else col.map(lambda x: datetime.strptime(x, '%b').month)\n",
    "}"
   ]
  },
  {
   "cell_type": "code",
   "execution_count": 5,
   "metadata": {},
   "outputs": [
    {
     "name": "stdout",
     "output_type": "stream",
     "text": [
      "saved: podatki/df_postaje/PM10.csv\n",
      "saved: podatki/df_postaje/SO2.csv\n",
      "saved: podatki/df_postaje/NOX.csv\n",
      "saved: podatki/df_postaje/NO2.csv\n"
     ]
    }
   ],
   "source": [
    "def extend_dataframe(repo: dict[str, pd.DataFrame], snov: str, to_add: pd.DataFrame):\n",
    "    repo[snov] = (\n",
    "        pd.concat([repo[snov], to_add], ignore_index=True) if snov in repo else to_add\n",
    "    )\n",
    "\n",
    "\n",
    "def dict_to_csv(repo: dict[str, pd.DataFrame], form: str):\n",
    "    for snov, df in repo.items():\n",
    "        path_dir = Path(f\"podatki/df_{form}\")\n",
    "\n",
    "        if Path.exists(path_dir):\n",
    "            filepath = path_dir / f\"{snov}.csv\"\n",
    "            df.to_csv(filepath, index=False)\n",
    "            print(f\"saved: {filepath}\")\n",
    "        else:\n",
    "            path_dir.mkdir()\n",
    "\n",
    "\n",
    "def load_air_pollutants(\n",
    "    nevarne_snovi: list[tuple[str, int]],\n",
    ") -> dict[str, pd.DataFrame]:\n",
    "    pd_dict = {}\n",
    "\n",
    "    for snov, zac_leto in nevarne_snovi:\n",
    "        dir_path = f\"podatki/{snov}\"\n",
    "        file_list = sorted(x for x in Path(dir_path).iterdir())\n",
    "\n",
    "        for leto, file_path in enumerate(file_list, start=zac_leto):\n",
    "            df = pd.read_csv(file_path, na_values=[\"\", \",\", \" \", \"/\"])\n",
    "\n",
    "            # cleanup\n",
    "            df = renamePostaja(df)\n",
    "            df = simplifyColumn(df, \"Postaja\", True)\n",
    "\n",
    "            # insert year column\n",
    "            df.insert(1, \"Leto\", leto)\n",
    "            # wide to long conversion\n",
    "            df = df.melt(\n",
    "                id_vars=[\"Postaja\", \"Leto\"],\n",
    "                value_vars=MESECI,\n",
    "                var_name=\"Mesec\",\n",
    "                value_name=snov,\n",
    "            )\n",
    "\n",
    "            # concat the dataframe\n",
    "            extend_dataframe(pd_dict, snov, df)\n",
    "\n",
    "    return pd_dict\n",
    "\n",
    "\n",
    "postaje_dict = load_air_pollutants(NEVARNE_SNOVI)\n",
    "dict_to_csv(postaje_dict, \"postaje\")"
   ]
  },
  {
   "cell_type": "markdown",
   "metadata": {},
   "source": [
    "Step2: Map stations to regions"
   ]
  },
  {
   "cell_type": "code",
   "execution_count": 6,
   "metadata": {},
   "outputs": [],
   "source": [
    "# returns (postaja->regija map, missing postaja)\n",
    "def postaja_regija_map(slovar_path: str) -> pd.Series:\n",
    "    # load dict from file\n",
    "    regija_dict = json.load(open(slovar_path))\n",
    "    # create dict for postaja->regija\n",
    "    regija_dict = {\n",
    "        postaja: regija\n",
    "        for regija, postaje in regija_dict.items()\n",
    "        for postaja in postaje\n",
    "    }\n",
    "    # create series for mapper; cleanup names, drop duplicates\n",
    "    regija_series = pd.Series(regija_dict, name=\"Regija\")\n",
    "    regija_series.index = regija_series.index.map(lowerSumniki)\n",
    "    regija_series = regija_series[~regija_series.index.duplicated()]\n",
    "    return regija_series\n",
    "\n",
    "\n",
    "# check and print if postaja exists without mapping\n",
    "def check_missing_mapping(postaje_dict: dict[str, pd.DataFrame], map_regija: pd.Series):\n",
    "    prevodi = set(map_regija.index.unique())\n",
    "    for snov, df in postaje_dict.items():\n",
    "        postaje = set(df[\"Postaja\"].unique())\n",
    "        inter = postaje - prevodi\n",
    "        if len(inter) > 0:\n",
    "            print(f\"{snov}: {inter}\")\n",
    "\n",
    "\n",
    "map_regija = postaja_regija_map(\"podatki/slovar.json\")\n",
    "check_missing_mapping(postaje_dict, map_regija)"
   ]
  },
  {
   "cell_type": "code",
   "execution_count": 7,
   "metadata": {},
   "outputs": [
    {
     "name": "stdout",
     "output_type": "stream",
     "text": [
      "saved: podatki/df_regije/PM10.csv\n",
      "saved: podatki/df_regije/SO2.csv\n",
      "saved: podatki/df_regije/NOX.csv\n",
      "saved: podatki/df_regije/NO2.csv\n"
     ]
    }
   ],
   "source": [
    "def add_regije_df(\n",
    "    postaje_dict: dict[str, pd.DataFrame], mapper: pd.Series\n",
    ") -> dict[str, pd.DataFrame]:\n",
    "    regije_dict = {}\n",
    "    for snov, df in postaje_dict.items():\n",
    "        regija_df = df.copy()\n",
    "        regija_df.insert(loc=1, column=\"Regija\", value=regija_df[\"Postaja\"].map(mapper))\n",
    "\n",
    "        regije_dict[snov] = regija_df\n",
    "\n",
    "    return regije_dict\n",
    "\n",
    "#Step3 parameter za izracun\n",
    "regije_dict = add_regije_df(postaje_dict=postaje_dict, mapper=map_regija)\n",
    "dict_to_csv(regije_dict,\"regije\")"
   ]
  },
  {
   "cell_type": "code",
   "execution_count": 30,
   "metadata": {},
   "outputs": [
    {
     "name": "stdout",
     "output_type": "stream",
     "text": [
      "----PM10----\n",
      "Število praznih vnosov: 3824\n",
      "najboljši obseg let:  (2006, 2023)\n",
      "vključene regije: ['Goriška', 'Jugovzhodna Slovenija', 'Obalno-kraška', 'Osrednjeslovenska', 'Podravska', 'Pomurska', 'Posavska', 'Savinjska', 'Zasavska']\n",
      "točke v obsegu: 2380.0547088791845\n",
      "----SO2----\n",
      "Število praznih vnosov: 6108\n",
      "najboljši obseg let:  (1997, 2009)\n",
      "vključene regije: ['Koroška', 'Osrednjeslovenska', 'Podravska', 'Posavska', 'Savinjska', 'Zasavska']\n",
      "točke v obsegu: 1166.9086878453043\n",
      "----NOX----\n",
      "Število praznih vnosov: 3984\n",
      "najboljši obseg let:  (2008, 2023)\n",
      "vključene regije: ['Goriška', 'Obalno-kraška', 'Osrednjeslovenska', 'Podravska', 'Savinjska', 'Zasavska']\n",
      "točke v obsegu: 1485.884090909091\n",
      "----NO2----\n",
      "Število praznih vnosov: 3428\n",
      "najboljši obseg let:  (2008, 2023)\n",
      "vključene regije: ['Goriška', 'Obalno-kraška', 'Osrednjeslovenska', 'Podravska', 'Savinjska', 'Zasavska']\n",
      "točke v obsegu: 1483.85118018018\n"
     ]
    }
   ],
   "source": [
    "locale.setlocale(locale.LC_ALL, \"sl_SI.utf8\")\n",
    "for snov, df in regije_dict.items():\n",
    "    df2 = df.copy().drop(columns=[\"Postaja\"])\n",
    "\n",
    "    scoringSystem = ScoringSystem(df2, snov)\n",
    "\n",
    "    best_range, regions, score = scoringSystem.optimal_year_range()\n",
    "    kart = scoringSystem.full_df\n",
    "    total_score = scoringSystem.calculate_total_score()\n",
    "    total_score.to_csv(f\"tmp_scoring_{snov}.csv\")\n",
    "    \n",
    "\n",
    "    print(f\"----{snov}----\")\n",
    "    print(\"Število praznih vnosov:\", kart[kart[snov].isna()].size)\n",
    "    print(\"najboljši obseg let: \", best_range)\n",
    "\n",
    "    print(\"vključene regije:\", regions)\n",
    "    print(\"točke v obsegu:\", score)"
   ]
  },
  {
   "cell_type": "code",
   "execution_count": null,
   "metadata": {},
   "outputs": [],
   "source": []
  }
 ],
 "metadata": {
  "kernelspec": {
   "display_name": "umetna-inteligenca",
   "language": "python",
   "name": "python3"
  },
  "language_info": {
   "codemirror_mode": {
    "name": "ipython",
    "version": 3
   },
   "file_extension": ".py",
   "mimetype": "text/x-python",
   "name": "python",
   "nbconvert_exporter": "python",
   "pygments_lexer": "ipython3",
   "version": "3.12.3"
  }
 },
 "nbformat": 4,
 "nbformat_minor": 2
}
