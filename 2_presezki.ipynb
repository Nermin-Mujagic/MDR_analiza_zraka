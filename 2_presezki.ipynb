{
 "cells": [
  {
   "cell_type": "code",
   "execution_count": 2,
   "id": "79078964",
   "metadata": {},
   "outputs": [],
   "source": [
    "import pandas as pd"
   ]
  },
  {
   "cell_type": "code",
   "execution_count": 7,
   "id": "a556f4ad",
   "metadata": {},
   "outputs": [
    {
     "data": {
      "text/html": [
       "<div>\n",
       "<style scoped>\n",
       "    .dataframe tbody tr th:only-of-type {\n",
       "        vertical-align: middle;\n",
       "    }\n",
       "\n",
       "    .dataframe tbody tr th {\n",
       "        vertical-align: top;\n",
       "    }\n",
       "\n",
       "    .dataframe thead th {\n",
       "        text-align: right;\n",
       "    }\n",
       "</style>\n",
       "<table border=\"1\" class=\"dataframe\">\n",
       "  <thead>\n",
       "    <tr style=\"text-align: right;\">\n",
       "      <th></th>\n",
       "      <th>SO2 - Urnih presežkov</th>\n",
       "      <th>SO2 - Dnevnih presežkov</th>\n",
       "    </tr>\n",
       "    <tr>\n",
       "      <th>Regija</th>\n",
       "      <th></th>\n",
       "      <th></th>\n",
       "    </tr>\n",
       "  </thead>\n",
       "  <tbody>\n",
       "    <tr>\n",
       "      <th>Zasavska</th>\n",
       "      <td>521</td>\n",
       "      <td>73</td>\n",
       "    </tr>\n",
       "    <tr>\n",
       "      <th>Savinjska</th>\n",
       "      <td>175</td>\n",
       "      <td>6</td>\n",
       "    </tr>\n",
       "    <tr>\n",
       "      <th>Posavska</th>\n",
       "      <td>116</td>\n",
       "      <td>21</td>\n",
       "    </tr>\n",
       "    <tr>\n",
       "      <th>Koroška</th>\n",
       "      <td>4</td>\n",
       "      <td>0</td>\n",
       "    </tr>\n",
       "    <tr>\n",
       "      <th>Osrednjeslovenska</th>\n",
       "      <td>0</td>\n",
       "      <td>0</td>\n",
       "    </tr>\n",
       "  </tbody>\n",
       "</table>\n",
       "</div>"
      ],
      "text/plain": [
       "                   SO2 - Urnih presežkov  SO2 - Dnevnih presežkov\n",
       "Regija                                                           \n",
       "Zasavska                             521                       73\n",
       "Savinjska                            175                        6\n",
       "Posavska                             116                       21\n",
       "Koroška                                4                        0\n",
       "Osrednjeslovenska                      0                        0"
      ]
     },
     "execution_count": 7,
     "metadata": {},
     "output_type": "execute_result"
    }
   ],
   "source": [
    "so2_presezki = pd.read_csv(\"podatki/df_regije/presezki/SO2.csv\")\n",
    "\n",
    "so2_presezki = so2_presezki.groupby([\"Regija\"])[\n",
    "    [\"SO2 - Urnih presežkov\", \"SO2 - Dnevnih presežkov\"]\n",
    "].sum().reset_index()\n",
    "\n",
    "so2_presezki.sort_values(by=so2_presezki.columns[1:].to_list(),ascending=False,inplace=True,ignore_index=True)\n",
    "so2_presezki.loc[4] = [\"Osrednjeslovenska\", 0,0]\n",
    "\n",
    "so2_presezki.set_index('Regija',inplace=True)\n",
    "\n",
    "so2_presezki"
   ]
  },
  {
   "cell_type": "code",
   "execution_count": 8,
   "id": "b297f643",
   "metadata": {},
   "outputs": [
    {
     "data": {
      "text/plain": [
       "Regija\n",
       "Zasavska                 2563.0\n",
       "Osrednjeslovenska        2307.0\n",
       "Podravska                1848.0\n",
       "Savinjska                1819.0\n",
       "Pomurska                  889.0\n",
       "Goriška                   817.0\n",
       "Jugovzhodna Slovenija     445.0\n",
       "Obalno-kraška             284.0\n",
       "Posavska                  278.0\n",
       "Gorenjska                 277.0\n",
       "Koroška                   252.0\n",
       "Notranjsko-kraška           6.0\n",
       "Name: PM10 - Dnevnih presežkov, dtype: float64"
      ]
     },
     "execution_count": 8,
     "metadata": {},
     "output_type": "execute_result"
    }
   ],
   "source": [
    "pm10_presezki = pd.read_csv(\"podatki/df_regije/presezki/PM10.csv\")\n",
    "\n",
    "pm10_presezki = pm10_presezki.groupby(['Regija'])['PM10 - Dnevnih presežkov'].sum().sort_values(ascending=False)\n",
    "\n",
    "pm10_presezki"
   ]
  },
  {
   "cell_type": "code",
   "execution_count": null,
   "id": "f6b98d3f",
   "metadata": {},
   "outputs": [],
   "source": []
  }
 ],
 "metadata": {
  "kernelspec": {
   "display_name": "umetna-inteligenca",
   "language": "python",
   "name": "python3"
  },
  "language_info": {
   "codemirror_mode": {
    "name": "ipython",
    "version": 3
   },
   "file_extension": ".py",
   "mimetype": "text/x-python",
   "name": "python",
   "nbconvert_exporter": "python",
   "pygments_lexer": "ipython3",
   "version": "3.12.3"
  }
 },
 "nbformat": 4,
 "nbformat_minor": 5
}
